{
 "cells": [
  {
   "cell_type": "code",
   "execution_count": 1,
   "id": "91377e08-daaa-42a1-bfb4-07e422ffb5d3",
   "metadata": {
    "tags": []
   },
   "outputs": [
    {
     "name": "stdout",
     "output_type": "stream",
     "text": [
      "WARNING:tensorflow:From C:\\Users\\Duncan\\anaconda3\\envs\\Eyball\\Lib\\site-packages\\keras\\src\\losses.py:2976: The name tf.losses.sparse_softmax_cross_entropy is deprecated. Please use tf.compat.v1.losses.sparse_softmax_cross_entropy instead.\n",
      "\n"
     ]
    }
   ],
   "source": [
    "import numpy as np\n",
    "import os\n",
    "from tensorflow.keras.models import load_model\n",
    "from PIL import ImageGrab\n",
    "import logging\n",
    "import random\n",
    "\n",
    "import os\n",
    "import numpy as np\n",
    "import tensorflow as tf\n",
    "from tensorflow.keras.models import Model, load_model\n",
    "from tensorflow.keras.layers import Input, Conv2D, MaxPooling2D, Flatten, Dense, Lambda\n",
    "from tensorflow.keras.preprocessing.image import load_img, img_to_array\n",
    "from PIL import ImageGrab"
   ]
  },
  {
   "cell_type": "code",
   "execution_count": 2,
   "id": "81e10613-ac38-499e-92d4-43b77337f087",
   "metadata": {
    "tags": []
   },
   "outputs": [],
   "source": [
    "known_good_images_folder = r\"D:\\training_images\\test\\valid\"\n",
    "test_image_path = r'C:\\temp\\engineer_typing3.png'\n",
    "siamese_model_path = r'models\\lung_ct_siamese_network_weights_with_crop2.h5'"
   ]
  },
  {
   "cell_type": "code",
   "execution_count": 3,
   "id": "667993ce-d3c3-423e-b555-312b0f543291",
   "metadata": {},
   "outputs": [],
   "source": [
    "class ModelPredictor:\n",
    "    # def __init__(self, siamese_model_path, known_good_images_folder, threshold=0.5):\n",
    "        # self.siamese_model_path = siamese_model_path\n",
    "        # self.known_good_images_folder = known_good_images_folder\n",
    "        # self.siamese_model = self.load_siamese_model(siamese_model_path)\n",
    "        # self.threshold = threshold  # Set a default or configurable threshold for similarity\n",
    "        # self.known_good_images = self.preload_known_good_images()  # Assuming this method preloads and processes the images\n",
    "    def __init__(self, siamese_model_path, known_good_images_folder, threshold=0.5, jury_size=12):\n",
    "        self.siamese_model_path = siamese_model_path\n",
    "        self.known_good_images_folder = known_good_images_folder\n",
    "        self.siamese_model = self.load_siamese_model(siamese_model_path)\n",
    "        self.threshold = threshold\n",
    "        self.jury_size = jury_size\n",
    "        self.known_good_images = self.preload_known_good_images()\n",
    "\n",
    "    def preload_known_good_images(self):\n",
    "        # Your existing method to preload images\n",
    "        print(\"Preloading known good images...\")\n",
    "        image_paths = []\n",
    "        for root, dirs, files in os.walk(self.known_good_images_folder):\n",
    "            for file in files:\n",
    "                if file.lower().endswith(('.png', '.jpg', '.jpeg')):\n",
    "                    full_path = os.path.join(root, file)\n",
    "                    image_paths.append(full_path)\n",
    "        return image_paths\n",
    "        # Cache known good images if needed here\n",
    "        \n",
    "    # Continue to define ModelPredictor class\n",
    "    def load_siamese_model(self, siamese_model_path):\n",
    "        # Define the base network architecture\n",
    "        def initialize_base_network(input_shape):\n",
    "            input = Input(shape=input_shape)\n",
    "            x = Conv2D(64, (3, 3), activation='relu')(input)\n",
    "            x = MaxPooling2D((2, 2))(x)\n",
    "            x = Conv2D(128, (3, 3), activation='relu')(x)\n",
    "            x = MaxPooling2D((2, 2))(x)\n",
    "            x = Flatten()(x)\n",
    "            x = Dense(128, activation='relu')(x)\n",
    "            return Model(input, x)\n",
    "\n",
    "        # Rebuild the Siamese network architecture\n",
    "        input_shape = (152, 152, 1)\n",
    "        base_network = initialize_base_network(input_shape)\n",
    "        input_a = Input(shape=input_shape)\n",
    "        input_b = Input(shape=input_shape)\n",
    "        processed_a = base_network(input_a)\n",
    "        processed_b = base_network(input_b)\n",
    "        distance = Lambda(lambda tensors: tf.sqrt(tf.reduce_sum(tf.square(tensors[0] - tensors[1]), axis=1, keepdims=True)))([processed_a, processed_b])\n",
    "        model = Model([input_a, input_b], distance)\n",
    "        model.load_weights(siamese_model_path)  # Load the saved weights\n",
    "        print(\"Siamese model loaded successfully.\")\n",
    "        return model\n",
    "    \n",
    "    def predict_siamese(self, test_image_path):\n",
    "        test_image_processed = self.preprocess_image(test_image_path)\n",
    "        if test_image_processed is None:\n",
    "            print(f\"Failed to preprocess test image at {test_image_path}\")\n",
    "            return None\n",
    "\n",
    "        test_image_processed = np.expand_dims(test_image_processed, axis=0)  # Adjust as necessary\n",
    "\n",
    "        # Randomly select a subset of known good images to compare against\n",
    "        selected_good_images = random.sample(self.known_good_images, min(self.jury_size, len(self.known_good_images)))\n",
    "\n",
    "        votes = []\n",
    "        for known_good_image_path in selected_good_images:\n",
    "            known_good_image_processed = self.preprocess_image(known_good_image_path)\n",
    "            if known_good_image_processed is None:\n",
    "                continue  # Skip this pair if the known good image can't be processed\n",
    "\n",
    "            known_good_image_processed = np.expand_dims(known_good_image_processed, axis=0)  # Adjust as necessary\n",
    "\n",
    "            # Prepare the pair\n",
    "            image_pair = [test_image_processed, known_good_image_processed]\n",
    "\n",
    "            # Make prediction\n",
    "            prediction_distance = self.siamese_model.predict(image_pair)\n",
    "            is_similar = prediction_distance < self.threshold  # Threshold to determine similarity\n",
    "\n",
    "            # Debugging output\n",
    "            print(f\"Comparing {test_image_path} with {known_good_image_path}: Distance = {prediction_distance}, Similar = {is_similar}\")\n",
    "            votes.append(is_similar)\n",
    "\n",
    "        # Calculate the majority vote\n",
    "        num_similar = sum(votes)\n",
    "        majority_similar = num_similar > len(votes) / 2\n",
    "        print(f\"Total votes for 'Similar': {num_similar}/{len(votes)}. Final verdict: {'Normal' if majority_similar else 'Anomalous'}\")\n",
    "\n",
    "        return majority_similar\n",
    "\n",
    "    def capture_screen(self, coordinates):\n",
    "        screenshot = ImageGrab.grab(bbox=coordinates)\n",
    "        return screenshot\n",
    "\n",
    "    def compare_to_known_images(self, captured_image, threshold=0.5, jury_size=3):\n",
    "        processed_captured_image = self.preprocess_data(captured_image)\n",
    "        verdicts = []\n",
    "\n",
    "        for _ in range(jury_size):\n",
    "            comparison_image = np.random.choice(self.known_good_images)\n",
    "            prediction = self.siamese_model.predict([processed_captured_image, comparison_image])\n",
    "            verdicts.append(prediction < threshold)\n",
    "\n",
    "        # Determine if the majority verdict is 'similar' or 'dissimilar'\n",
    "        final_verdict = sum(verdicts) >= jury_size / 2\n",
    "        return final_verdict\n",
    "    \n",
    "    def evaluate_image(self, coordinates):\n",
    "        # Capture the image from screen coordinates\n",
    "        captured_image = self.capture_screen(coordinates)\n",
    "\n",
    "        # Compare to known images to get a verdict\n",
    "        is_normal = self.compare_to_known_images(captured_image)\n",
    "\n",
    "        return is_normal\n",
    "    \n",
    "    def predict_similarity(self, test_image_path):\n",
    "        test_image_processed = self.preprocess_image(test_image_path)\n",
    "\n",
    "        if test_image_processed is None:\n",
    "            print(f\"Failed to preprocess test image at {test_image_path}\")\n",
    "            return \"Preprocessing Failed\"  # Or handle this scenario as you see fit\n",
    "\n",
    "        test_image_processed = np.expand_dims(test_image_processed, axis=0)  # Add batch dimension\n",
    "\n",
    "        similarities = []\n",
    "        for known_good_image_path in self.known_good_images:\n",
    "            known_good_image_processed = self.preprocess_image(known_good_image_path)\n",
    "\n",
    "            if known_good_image_processed is None:\n",
    "                continue  # Skip this known good image or handle as needed\n",
    "\n",
    "            known_good_image_processed = np.expand_dims(known_good_image_processed, axis=0)  # Add batch dimension\n",
    "\n",
    "            # Make prediction (assuming your model expects a list of two inputs for the pairs)\n",
    "            prediction = self.siamese_model.predict([test_image_processed, known_good_image_processed])\n",
    "\n",
    "            similarities.append(prediction[0])\n",
    "\n",
    "        # Decide based on predictions\n",
    "        # Example: consider 'Similar' if any prediction is below a certain threshold\n",
    "        similarity_threshold = 0.5  # Adjust based on your model and validation results\n",
    "        is_similar = any(sim < similarity_threshold for sim in similarities)\n",
    "\n",
    "        return 'Similar' if is_similar else 'Dissimilar'\n",
    "\n",
    "\n",
    "    def preprocess_image(self, img_path: str, target_size=(152, 152)):\n",
    "        #print(f\"Attempting to open image: {img_path}\")\n",
    "        try:\n",
    "            image = load_img(img_path, target_size=target_size, color_mode='grayscale')\n",
    "            image = img_to_array(image)\n",
    "            image /= 255.0  # Normalize to [0, 1]\n",
    "        except FileNotFoundError as e:\n",
    "            print(f\"Failed to open image at {img_path}: {e}\")\n",
    "            return None\n",
    "        return image"
   ]
  },
  {
   "cell_type": "code",
   "execution_count": 4,
   "id": "fc401056-204c-4548-b9c7-47029d87dc6e",
   "metadata": {},
   "outputs": [
    {
     "name": "stdout",
     "output_type": "stream",
     "text": [
      "WARNING:tensorflow:From C:\\Users\\Duncan\\anaconda3\\envs\\Eyball\\Lib\\site-packages\\keras\\src\\backend.py:1398: The name tf.executing_eagerly_outside_functions is deprecated. Please use tf.compat.v1.executing_eagerly_outside_functions instead.\n",
      "\n",
      "WARNING:tensorflow:From C:\\Users\\Duncan\\anaconda3\\envs\\Eyball\\Lib\\site-packages\\keras\\src\\layers\\pooling\\max_pooling2d.py:161: The name tf.nn.max_pool is deprecated. Please use tf.nn.max_pool2d instead.\n",
      "\n",
      "Siamese model loaded successfully.\n",
      "Preloading known good images...\n"
     ]
    }
   ],
   "source": [
    "predictor = ModelPredictor(siamese_model_path, known_good_images_folder)"
   ]
  },
  {
   "cell_type": "code",
   "execution_count": 5,
   "id": "777f8e1c-44b0-492d-b56a-711023600ceb",
   "metadata": {
    "tags": []
   },
   "outputs": [
    {
     "name": "stdout",
     "output_type": "stream",
     "text": [
      "1/1 [==============================] - 0s 94ms/step\n",
      "Comparing C:\\temp\\engineer_typing3.png with D:\\training_images\\test\\valid\\zoomed\\randomized_wl\\61b0a2d5-c859-4ceb-95e5-3cf38b70849f_1.png: Distance = [[1.1099311]], Similar = [[False]]\n",
      "1/1 [==============================] - 0s 23ms/step\n",
      "Comparing C:\\temp\\engineer_typing3.png with D:\\training_images\\test\\valid\\randomized_wl\\cropped\\eb878dca-26ce-4a8a-8565-2088bdaa8d78_0.png: Distance = [[0.66221154]], Similar = [[False]]\n",
      "1/1 [==============================] - 0s 22ms/step\n",
      "Comparing C:\\temp\\engineer_typing3.png with D:\\training_images\\test\\valid\\zoomed\\randomized_wl\\c5423e86-1937-443f-abe0-61de2d28a56c_0.png: Distance = [[1.1099311]], Similar = [[False]]\n",
      "1/1 [==============================] - 0s 24ms/step\n",
      "Comparing C:\\temp\\engineer_typing3.png with D:\\training_images\\test\\valid\\dummy_class\\58261a16-4987-41e9-8667-0e99af433e51.png: Distance = [[1.1099311]], Similar = [[False]]\n",
      "1/1 [==============================] - 0s 23ms/step\n",
      "Comparing C:\\temp\\engineer_typing3.png with D:\\training_images\\test\\valid\\zoomed\\randomized_wl\\c38a27f6-f5cd-499e-9eb1-28ca421f5c0a_1.png: Distance = [[1.1099311]], Similar = [[False]]\n",
      "1/1 [==============================] - 0s 23ms/step\n",
      "Comparing C:\\temp\\engineer_typing3.png with D:\\training_images\\test\\valid\\rotate_and_flip\\7d77ba3e-3c36-4da9-83eb-60ac46aee333.png: Distance = [[1.1099311]], Similar = [[False]]\n",
      "1/1 [==============================] - 0s 25ms/step\n",
      "Comparing C:\\temp\\engineer_typing3.png with D:\\training_images\\test\\valid\\zoomed\\randomized_wl\\5a4a0706-e4a3-4b3a-bf78-7718f6390a85_1.png: Distance = [[1.1099311]], Similar = [[False]]\n",
      "1/1 [==============================] - 0s 23ms/step\n",
      "Comparing C:\\temp\\engineer_typing3.png with D:\\training_images\\test\\valid\\zoomed\\randomized_wl\\794ac88d-e24a-446f-9530-7d13f8414b4b_0.png: Distance = [[1.1099311]], Similar = [[False]]\n",
      "1/1 [==============================] - 0s 24ms/step\n",
      "Comparing C:\\temp\\engineer_typing3.png with D:\\training_images\\test\\valid\\rotate_and_flip\\4f76edb1-241a-4335-a0a6-1c8ee65b3b6d.png: Distance = [[1.1099311]], Similar = [[False]]\n",
      "1/1 [==============================] - 0s 22ms/step\n",
      "Comparing C:\\temp\\engineer_typing3.png with D:\\training_images\\test\\valid\\zoomed\\randomized_wl\\80c0c005-eb65-49d5-ae7d-6fb6fa9f220d_1.png: Distance = [[1.1099311]], Similar = [[False]]\n",
      "1/1 [==============================] - 0s 20ms/step\n",
      "Comparing C:\\temp\\engineer_typing3.png with D:\\training_images\\test\\valid\\dummy_class\\6a47da6e-b3ea-4c65-88fc-f8ee062d9375.png: Distance = [[1.1099311]], Similar = [[False]]\n",
      "1/1 [==============================] - 0s 23ms/step\n",
      "Comparing C:\\temp\\engineer_typing3.png with D:\\training_images\\test\\valid\\rotate_and_flip\\f76266ae-8925-4e7e-9387-58974541bda7.png: Distance = [[1.1099311]], Similar = [[False]]\n",
      "Total votes for 'Similar': [[0]]/12. Final verdict: Anomalous\n"
     ]
    },
    {
     "data": {
      "text/plain": [
       "array([[False]])"
      ]
     },
     "execution_count": 5,
     "metadata": {},
     "output_type": "execute_result"
    }
   ],
   "source": [
    "test_image_path = r'C:\\temp\\engineer_typing3.png'\n",
    "predictor.predict_siamese(test_image_path)"
   ]
  },
  {
   "cell_type": "code",
   "execution_count": 6,
   "id": "137a703f-9afb-4966-8895-ade6193e01fb",
   "metadata": {
    "tags": []
   },
   "outputs": [
    {
     "name": "stdout",
     "output_type": "stream",
     "text": [
      "1/1 [==============================] - 0s 22ms/step\n",
      "Comparing D:\\training_images\\test\\valid\\rotate_and_flip\\0ac5863d-51b1-460f-abe1-3e330c596585.png with D:\\training_images\\test\\valid\\zoomed\\randomized_wl\\800e1493-0d6f-4165-84c7-1002313064c1_0.png: Distance = [[0.19207215]], Similar = [[ True]]\n",
      "1/1 [==============================] - 0s 22ms/step\n",
      "Comparing D:\\training_images\\test\\valid\\rotate_and_flip\\0ac5863d-51b1-460f-abe1-3e330c596585.png with D:\\training_images\\test\\valid\\rotate_and_flip\\acbdd960-9dff-473c-959c-f35b469225b7.png: Distance = [[0.19207215]], Similar = [[ True]]\n",
      "1/1 [==============================] - 0s 23ms/step\n",
      "Comparing D:\\training_images\\test\\valid\\rotate_and_flip\\0ac5863d-51b1-460f-abe1-3e330c596585.png with D:\\training_images\\test\\valid\\dummy_class\\ff655528-79b0-40bb-9620-e842a752f01c.png: Distance = [[0.19207215]], Similar = [[ True]]\n",
      "1/1 [==============================] - 0s 21ms/step\n",
      "Comparing D:\\training_images\\test\\valid\\rotate_and_flip\\0ac5863d-51b1-460f-abe1-3e330c596585.png with D:\\training_images\\test\\valid\\rotate_and_flip\\25341540-22ee-454e-b65f-924a46b51fa5.png: Distance = [[0.19207215]], Similar = [[ True]]\n",
      "1/1 [==============================] - 0s 21ms/step\n",
      "Comparing D:\\training_images\\test\\valid\\rotate_and_flip\\0ac5863d-51b1-460f-abe1-3e330c596585.png with D:\\training_images\\test\\valid\\dummy_class\\c38a27f6-f5cd-499e-9eb1-28ca421f5c0a.png: Distance = [[0.19207215]], Similar = [[ True]]\n",
      "1/1 [==============================] - 0s 21ms/step\n",
      "Comparing D:\\training_images\\test\\valid\\rotate_and_flip\\0ac5863d-51b1-460f-abe1-3e330c596585.png with D:\\training_images\\test\\valid\\zoomed\\randomized_wl\\4a889dfd-abc5-44e4-ae12-bdb47693addf_1.png: Distance = [[0.19207215]], Similar = [[ True]]\n",
      "1/1 [==============================] - 0s 22ms/step\n",
      "Comparing D:\\training_images\\test\\valid\\rotate_and_flip\\0ac5863d-51b1-460f-abe1-3e330c596585.png with D:\\training_images\\test\\valid\\zoomed\\randomized_wl\\6a1b0bc5-ae97-4122-9804-dc0d2d286b65_1.png: Distance = [[0.19207215]], Similar = [[ True]]\n",
      "1/1 [==============================] - 0s 22ms/step\n",
      "Comparing D:\\training_images\\test\\valid\\rotate_and_flip\\0ac5863d-51b1-460f-abe1-3e330c596585.png with D:\\training_images\\test\\valid\\randomized_wl\\cropped\\f0992100-b1a0-40d1-8cfd-c35678e0f3a7_1.png: Distance = [[0.19207215]], Similar = [[ True]]\n",
      "1/1 [==============================] - 0s 24ms/step\n",
      "Comparing D:\\training_images\\test\\valid\\rotate_and_flip\\0ac5863d-51b1-460f-abe1-3e330c596585.png with D:\\training_images\\test\\valid\\zoomed\\randomized_wl\\d8f7afdc-b27a-40a7-a5b5-b486a728de00_1.png: Distance = [[0.19207215]], Similar = [[ True]]\n",
      "1/1 [==============================] - 0s 23ms/step\n",
      "Comparing D:\\training_images\\test\\valid\\rotate_and_flip\\0ac5863d-51b1-460f-abe1-3e330c596585.png with D:\\training_images\\test\\valid\\rotate_and_flip\\9bb53fb1-a6d5-4716-9ff4-a7597f08696c.png: Distance = [[0.19207215]], Similar = [[ True]]\n",
      "1/1 [==============================] - 0s 23ms/step\n",
      "Comparing D:\\training_images\\test\\valid\\rotate_and_flip\\0ac5863d-51b1-460f-abe1-3e330c596585.png with D:\\training_images\\test\\valid\\rotate_and_flip\\0365cdac-a3df-446f-a795-bf5ee63378dd.png: Distance = [[0.19207215]], Similar = [[ True]]\n",
      "1/1 [==============================] - 0s 25ms/step\n",
      "Comparing D:\\training_images\\test\\valid\\rotate_and_flip\\0ac5863d-51b1-460f-abe1-3e330c596585.png with D:\\training_images\\test\\valid\\randomized_wl\\cropped\\f9c0e3f3-aea2-406a-a4fd-115b64e27b0b_0.png: Distance = [[0.19207215]], Similar = [[ True]]\n",
      "Total votes for 'Similar': [[12]]/12. Final verdict: Normal\n"
     ]
    },
    {
     "data": {
      "text/plain": [
       "array([[ True]])"
      ]
     },
     "execution_count": 6,
     "metadata": {},
     "output_type": "execute_result"
    }
   ],
   "source": [
    "test_image_path = r'D:\\training_images\\test\\valid\\rotate_and_flip\\0ac5863d-51b1-460f-abe1-3e330c596585.png'\n",
    "predictor.predict_siamese(test_image_path)"
   ]
  },
  {
   "cell_type": "code",
   "execution_count": 7,
   "id": "c77b15a7-e3e2-4787-86fb-1f235064923b",
   "metadata": {},
   "outputs": [
    {
     "name": "stdout",
     "output_type": "stream",
     "text": [
      "1/1 [==============================] - 0s 21ms/step\n",
      "Comparing D:\\Custom_invalid\\cat.jpg with D:\\training_images\\test\\valid\\randomized_wl\\cropped\\07a9cef1-8ebd-4af0-b1f7-790929436a86_1.png: Distance = [[0.95939994]], Similar = [[False]]\n",
      "1/1 [==============================] - 0s 21ms/step\n",
      "Comparing D:\\Custom_invalid\\cat.jpg with D:\\training_images\\test\\valid\\zoomed\\randomized_wl\\a6d14009-aff5-4f2f-bfa7-22f6a58a4db8_0.png: Distance = [[0.95939994]], Similar = [[False]]\n",
      "1/1 [==============================] - 0s 24ms/step\n",
      "Comparing D:\\Custom_invalid\\cat.jpg with D:\\training_images\\test\\valid\\randomized_wl\\cropped\\ff7c739b-e765-409b-a1f9-cc5f2a9b814e_0.png: Distance = [[0.95939994]], Similar = [[False]]\n",
      "1/1 [==============================] - 0s 23ms/step\n",
      "Comparing D:\\Custom_invalid\\cat.jpg with D:\\training_images\\test\\valid\\randomized_wl\\cropped\\ebb2328f-df45-44e2-a9a1-96a033943045_0.png: Distance = [[0.95939994]], Similar = [[False]]\n",
      "1/1 [==============================] - 0s 22ms/step\n",
      "Comparing D:\\Custom_invalid\\cat.jpg with D:\\training_images\\test\\valid\\randomized_wl\\cropped\\c38e8436-d9bf-4308-ab22-a3361d79c71b_1.png: Distance = [[0.95939994]], Similar = [[False]]\n",
      "1/1 [==============================] - 0s 23ms/step\n",
      "Comparing D:\\Custom_invalid\\cat.jpg with D:\\training_images\\test\\valid\\randomized_wl\\cropped\\800e1493-0d6f-4165-84c7-1002313064c1_1.png: Distance = [[0.95939994]], Similar = [[False]]\n",
      "1/1 [==============================] - 0s 22ms/step\n",
      "Comparing D:\\Custom_invalid\\cat.jpg with D:\\training_images\\test\\valid\\randomized_wl\\cropped\\6895714e-fec0-423a-a3ba-fd56a48de76e_1.png: Distance = [[0.46683514]], Similar = [[ True]]\n",
      "1/1 [==============================] - 0s 24ms/step\n",
      "Comparing D:\\Custom_invalid\\cat.jpg with D:\\training_images\\test\\valid\\zoomed\\randomized_wl\\083946f0-eadd-4c5f-b203-f6d26587a524_0.png: Distance = [[0.95939994]], Similar = [[False]]\n",
      "1/1 [==============================] - 0s 24ms/step\n",
      "Comparing D:\\Custom_invalid\\cat.jpg with D:\\training_images\\test\\valid\\zoomed\\randomized_wl\\bdfda63a-5daa-475e-988e-dafd3a72407e_1.png: Distance = [[0.95939994]], Similar = [[False]]\n",
      "1/1 [==============================] - 0s 25ms/step\n",
      "Comparing D:\\Custom_invalid\\cat.jpg with D:\\training_images\\test\\valid\\zoomed\\randomized_wl\\1cb633f2-c40a-4b9a-9d5c-8078fa0dc41a_1.png: Distance = [[0.95939994]], Similar = [[False]]\n",
      "1/1 [==============================] - 0s 22ms/step\n",
      "Comparing D:\\Custom_invalid\\cat.jpg with D:\\training_images\\test\\valid\\rotate_and_flip\\0ac0a07c-1059-45b5-8889-fa0edf5b0b15.png: Distance = [[0.95939994]], Similar = [[False]]\n",
      "1/1 [==============================] - 0s 22ms/step\n",
      "Comparing D:\\Custom_invalid\\cat.jpg with D:\\training_images\\test\\valid\\randomized_wl\\cropped\\3a479762-33e7-416e-bcc7-44113a9082d7_0.png: Distance = [[0.95939994]], Similar = [[False]]\n",
      "Total votes for 'Similar': [[1]]/12. Final verdict: Anomalous\n"
     ]
    },
    {
     "data": {
      "text/plain": [
       "array([[False]])"
      ]
     },
     "execution_count": 7,
     "metadata": {},
     "output_type": "execute_result"
    }
   ],
   "source": [
    "test_image_path = r'D:\\Custom_invalid\\cat.jpg'\n",
    "predictor.predict_siamese(test_image_path)"
   ]
  },
  {
   "cell_type": "code",
   "execution_count": 8,
   "id": "8f01e690-9589-44e2-81a0-1ed654a10ab2",
   "metadata": {
    "tags": []
   },
   "outputs": [
    {
     "name": "stdout",
     "output_type": "stream",
     "text": [
      "1/1 [==============================] - 0s 22ms/step\n",
      "Comparing D:\\custom_test_valid\\internet_27f6574b96deb965217cff1aac35fc_gallery.jpg with D:\\training_images\\test\\valid\\rotate_and_flip\\8d3af466-644b-49ee-8d07-03178c57a645.png: Distance = [[0.]], Similar = [[ True]]\n",
      "1/1 [==============================] - 0s 23ms/step\n",
      "Comparing D:\\custom_test_valid\\internet_27f6574b96deb965217cff1aac35fc_gallery.jpg with D:\\training_images\\test\\valid\\randomized_wl\\cropped\\850926d7-3925-4725-90b7-d3fdab616b7c_1.png: Distance = [[0.]], Similar = [[ True]]\n",
      "1/1 [==============================] - 0s 22ms/step\n",
      "Comparing D:\\custom_test_valid\\internet_27f6574b96deb965217cff1aac35fc_gallery.jpg with D:\\training_images\\test\\valid\\randomized_wl\\cropped\\dd53d8e1-6a1c-445b-b891-070ab691b898_0.png: Distance = [[0.]], Similar = [[ True]]\n",
      "1/1 [==============================] - 0s 24ms/step\n",
      "Comparing D:\\custom_test_valid\\internet_27f6574b96deb965217cff1aac35fc_gallery.jpg with D:\\training_images\\test\\valid\\zoomed\\randomized_wl\\b197975b-6d07-40df-8049-e51791561efd_1.png: Distance = [[0.]], Similar = [[ True]]\n",
      "1/1 [==============================] - 0s 25ms/step\n",
      "Comparing D:\\custom_test_valid\\internet_27f6574b96deb965217cff1aac35fc_gallery.jpg with D:\\training_images\\test\\valid\\randomized_wl\\cropped\\6eb2d6ae-b679-49cc-a776-b82ca7f389be_0.png: Distance = [[0.]], Similar = [[ True]]\n",
      "1/1 [==============================] - 0s 23ms/step\n",
      "Comparing D:\\custom_test_valid\\internet_27f6574b96deb965217cff1aac35fc_gallery.jpg with D:\\training_images\\test\\valid\\zoomed\\randomized_wl\\e7c854ba-7cc3-41ee-b844-9de4c50de85e_0.png: Distance = [[0.]], Similar = [[ True]]\n",
      "1/1 [==============================] - 0s 23ms/step\n",
      "Comparing D:\\custom_test_valid\\internet_27f6574b96deb965217cff1aac35fc_gallery.jpg with D:\\training_images\\test\\valid\\rotate_and_flip\\794ac88d-e24a-446f-9530-7d13f8414b4b.png: Distance = [[0.]], Similar = [[ True]]\n",
      "1/1 [==============================] - 0s 21ms/step\n",
      "Comparing D:\\custom_test_valid\\internet_27f6574b96deb965217cff1aac35fc_gallery.jpg with D:\\training_images\\test\\valid\\zoomed\\randomized_wl\\2f7202c3-f1e7-4ff9-bb57-e7dd16b74145_0.png: Distance = [[0.]], Similar = [[ True]]\n",
      "1/1 [==============================] - 0s 22ms/step\n",
      "Comparing D:\\custom_test_valid\\internet_27f6574b96deb965217cff1aac35fc_gallery.jpg with D:\\training_images\\test\\valid\\rotate_and_flip\\96aa3221-dcd6-44df-9c27-a6cee384eb4e.png: Distance = [[0.]], Similar = [[ True]]\n",
      "1/1 [==============================] - 0s 20ms/step\n",
      "Comparing D:\\custom_test_valid\\internet_27f6574b96deb965217cff1aac35fc_gallery.jpg with D:\\training_images\\test\\valid\\zoomed\\randomized_wl\\7be10dbf-0923-43ef-8257-48fd80882876_0.png: Distance = [[0.]], Similar = [[ True]]\n",
      "1/1 [==============================] - 0s 21ms/step\n",
      "Comparing D:\\custom_test_valid\\internet_27f6574b96deb965217cff1aac35fc_gallery.jpg with D:\\training_images\\test\\valid\\dummy_class\\ecfc8f2d-07e2-4a79-a988-12a00c81bd12.png: Distance = [[0.]], Similar = [[ True]]\n",
      "1/1 [==============================] - 0s 20ms/step\n",
      "Comparing D:\\custom_test_valid\\internet_27f6574b96deb965217cff1aac35fc_gallery.jpg with D:\\training_images\\test\\valid\\zoomed\\randomized_wl\\7cedfc0b-79d3-41f8-aa47-3439d9ad8a10_0.png: Distance = [[0.]], Similar = [[ True]]\n",
      "Total votes for 'Similar': [[12]]/12. Final verdict: Normal\n"
     ]
    },
    {
     "data": {
      "text/plain": [
       "array([[ True]])"
      ]
     },
     "execution_count": 8,
     "metadata": {},
     "output_type": "execute_result"
    }
   ],
   "source": [
    "test_image_path = r'D:\\custom_test_valid\\internet_27f6574b96deb965217cff1aac35fc_gallery.jpg'\n",
    "predictor.predict_siamese(test_image_path)"
   ]
  },
  {
   "cell_type": "code",
   "execution_count": 9,
   "id": "3207058d-10f5-44cc-9fb3-013e7bcafdc0",
   "metadata": {
    "tags": []
   },
   "outputs": [
    {
     "name": "stdout",
     "output_type": "stream",
     "text": [
      "1/1 [==============================] - 0s 21ms/step\n",
      "Comparing D:\\custom_test_valid\\istockphoto-493741910-612x612.jpg with D:\\training_images\\test\\valid\\randomized_wl\\cropped\\181b3513-c653-4e3d-90b2-c5a0bb723b67_0.png: Distance = [[0.24239028]], Similar = [[ True]]\n",
      "1/1 [==============================] - 0s 20ms/step\n",
      "Comparing D:\\custom_test_valid\\istockphoto-493741910-612x612.jpg with D:\\training_images\\test\\valid\\dummy_class\\5e5c2dd6-630c-450f-9073-d8f7b1c97c35.png: Distance = [[0.27521837]], Similar = [[ True]]\n",
      "1/1 [==============================] - 0s 22ms/step\n",
      "Comparing D:\\custom_test_valid\\istockphoto-493741910-612x612.jpg with D:\\training_images\\test\\valid\\dummy_class\\ef468eb7-987c-4bd9-9b83-23b82b673775.png: Distance = [[0.27521837]], Similar = [[ True]]\n",
      "1/1 [==============================] - 0s 23ms/step\n",
      "Comparing D:\\custom_test_valid\\istockphoto-493741910-612x612.jpg with D:\\training_images\\test\\valid\\rotate_and_flip\\6371913b-743a-422e-94c9-3d7d837aa87b.png: Distance = [[0.27521837]], Similar = [[ True]]\n",
      "1/1 [==============================] - 0s 22ms/step\n",
      "Comparing D:\\custom_test_valid\\istockphoto-493741910-612x612.jpg with D:\\training_images\\test\\valid\\randomized_wl\\cropped\\cfaa6e2c-bb04-4d99-a74b-070ce5673469_0.png: Distance = [[0.27521837]], Similar = [[ True]]\n",
      "1/1 [==============================] - 0s 22ms/step\n",
      "Comparing D:\\custom_test_valid\\istockphoto-493741910-612x612.jpg with D:\\training_images\\test\\valid\\randomized_wl\\cropped\\d379cd34-803c-472e-8a60-d5ac53f0f650_0.png: Distance = [[0.27521837]], Similar = [[ True]]\n",
      "1/1 [==============================] - 0s 20ms/step\n",
      "Comparing D:\\custom_test_valid\\istockphoto-493741910-612x612.jpg with D:\\training_images\\test\\valid\\rotate_and_flip\\b91fcb91-0196-4840-9ae0-5d77fb17f457.png: Distance = [[0.27521837]], Similar = [[ True]]\n",
      "1/1 [==============================] - 0s 21ms/step\n",
      "Comparing D:\\custom_test_valid\\istockphoto-493741910-612x612.jpg with D:\\training_images\\test\\valid\\randomized_wl\\cropped\\4d2017b8-15e6-40ad-a3a5-dd6f43994ffa_1.png: Distance = [[0.27521837]], Similar = [[ True]]\n",
      "1/1 [==============================] - 0s 22ms/step\n",
      "Comparing D:\\custom_test_valid\\istockphoto-493741910-612x612.jpg with D:\\training_images\\test\\valid\\zoomed\\randomized_wl\\00749166-5208-4107-b578-129155070aa8_0.png: Distance = [[0.27521837]], Similar = [[ True]]\n",
      "1/1 [==============================] - 0s 21ms/step\n",
      "Comparing D:\\custom_test_valid\\istockphoto-493741910-612x612.jpg with D:\\training_images\\test\\valid\\randomized_wl\\cropped\\02bbac80-299e-4c52-ad4c-e4295c68554e_1.png: Distance = [[0.27521837]], Similar = [[ True]]\n",
      "1/1 [==============================] - 0s 21ms/step\n",
      "Comparing D:\\custom_test_valid\\istockphoto-493741910-612x612.jpg with D:\\training_images\\test\\valid\\zoomed\\randomized_wl\\cdf7dda6-3310-4d8f-b09f-f19975b65271_1.png: Distance = [[0.27521837]], Similar = [[ True]]\n",
      "1/1 [==============================] - 0s 22ms/step\n",
      "Comparing D:\\custom_test_valid\\istockphoto-493741910-612x612.jpg with D:\\training_images\\test\\valid\\randomized_wl\\cropped\\7c04ad64-9d77-4d95-9409-552780caa4a1_0.png: Distance = [[0.27521837]], Similar = [[ True]]\n",
      "Total votes for 'Similar': [[12]]/12. Final verdict: Normal\n"
     ]
    },
    {
     "data": {
      "text/plain": [
       "array([[ True]])"
      ]
     },
     "execution_count": 9,
     "metadata": {},
     "output_type": "execute_result"
    }
   ],
   "source": [
    "test_image_path = r'D:\\custom_test_valid\\istockphoto-493741910-612x612.jpg'\n",
    "predictor.predict_siamese(test_image_path)"
   ]
  },
  {
   "cell_type": "code",
   "execution_count": 10,
   "id": "23da4cc4-4cfc-4104-9605-9874b562844c",
   "metadata": {
    "tags": []
   },
   "outputs": [
    {
     "name": "stdout",
     "output_type": "stream",
     "text": [
      "1/1 [==============================] - 0s 20ms/step\n",
      "Comparing D:\\custom_test_valid\\low-dose-lung-cancer-screening-with-lung-nodules.jpg with D:\\training_images\\test\\valid\\rotate_and_flip\\3d4509e0-f20e-45ad-bc02-de6dc70984cc.png: Distance = [[0.4097311]], Similar = [[ True]]\n",
      "1/1 [==============================] - 0s 21ms/step\n",
      "Comparing D:\\custom_test_valid\\low-dose-lung-cancer-screening-with-lung-nodules.jpg with D:\\training_images\\test\\valid\\randomized_wl\\cropped\\9cf004c5-e845-481c-a712-129a4432be8b_0.png: Distance = [[0.4097311]], Similar = [[ True]]\n",
      "1/1 [==============================] - 0s 22ms/step\n",
      "Comparing D:\\custom_test_valid\\low-dose-lung-cancer-screening-with-lung-nodules.jpg with D:\\training_images\\test\\valid\\randomized_wl\\cropped\\4db13d59-613f-4f98-b708-451930704fae_1.png: Distance = [[0.4097311]], Similar = [[ True]]\n",
      "1/1 [==============================] - 0s 23ms/step\n",
      "Comparing D:\\custom_test_valid\\low-dose-lung-cancer-screening-with-lung-nodules.jpg with D:\\training_images\\test\\valid\\zoomed\\randomized_wl\\3e2c8f1b-5b7c-4a4b-9005-0d1864e2646a_1.png: Distance = [[0.4097311]], Similar = [[ True]]\n",
      "1/1 [==============================] - 0s 23ms/step\n",
      "Comparing D:\\custom_test_valid\\low-dose-lung-cancer-screening-with-lung-nodules.jpg with D:\\training_images\\test\\valid\\randomized_wl\\cropped\\c08d5840-edda-4572-b110-fbf76ca17c42_0.png: Distance = [[0.4097311]], Similar = [[ True]]\n",
      "1/1 [==============================] - 0s 21ms/step\n",
      "Comparing D:\\custom_test_valid\\low-dose-lung-cancer-screening-with-lung-nodules.jpg with D:\\training_images\\test\\valid\\dummy_class\\dfdbb64a-be80-4642-b0f8-f16c243688fb.png: Distance = [[0.4097311]], Similar = [[ True]]\n",
      "1/1 [==============================] - 0s 21ms/step\n",
      "Comparing D:\\custom_test_valid\\low-dose-lung-cancer-screening-with-lung-nodules.jpg with D:\\training_images\\test\\valid\\zoomed\\randomized_wl\\b8e7f514-8685-4ce6-955c-36e9a569ec10_0.png: Distance = [[0.4097311]], Similar = [[ True]]\n",
      "1/1 [==============================] - 0s 20ms/step\n",
      "Comparing D:\\custom_test_valid\\low-dose-lung-cancer-screening-with-lung-nodules.jpg with D:\\training_images\\test\\valid\\dummy_class\\4b665f09-3ef8-4d90-8368-1ed44796fbe9.png: Distance = [[0.4097311]], Similar = [[ True]]\n",
      "1/1 [==============================] - 0s 20ms/step\n",
      "Comparing D:\\custom_test_valid\\low-dose-lung-cancer-screening-with-lung-nodules.jpg with D:\\training_images\\test\\valid\\zoomed\\randomized_wl\\f29b6cc8-4da3-4884-af42-2fe29605bca5_0.png: Distance = [[0.4097311]], Similar = [[ True]]\n",
      "1/1 [==============================] - 0s 21ms/step\n",
      "Comparing D:\\custom_test_valid\\low-dose-lung-cancer-screening-with-lung-nodules.jpg with D:\\training_images\\test\\valid\\dummy_class\\c7d9ee74-aa26-474d-a646-92faf06dfd04.png: Distance = [[0.4097311]], Similar = [[ True]]\n",
      "1/1 [==============================] - 0s 21ms/step\n",
      "Comparing D:\\custom_test_valid\\low-dose-lung-cancer-screening-with-lung-nodules.jpg with D:\\training_images\\test\\valid\\randomized_wl\\cropped\\d968e3a2-bf47-4aa8-9ea8-f2f933fcbea7_1.png: Distance = [[0.4097311]], Similar = [[ True]]\n",
      "1/1 [==============================] - 0s 21ms/step\n",
      "Comparing D:\\custom_test_valid\\low-dose-lung-cancer-screening-with-lung-nodules.jpg with D:\\training_images\\test\\valid\\zoomed\\randomized_wl\\c59d9a44-5fc2-4034-95f6-b37a25e964b4_0.png: Distance = [[0.4097311]], Similar = [[ True]]\n",
      "Total votes for 'Similar': [[12]]/12. Final verdict: Normal\n"
     ]
    },
    {
     "data": {
      "text/plain": [
       "array([[ True]])"
      ]
     },
     "execution_count": 10,
     "metadata": {},
     "output_type": "execute_result"
    }
   ],
   "source": [
    "test_image_path = r'D:\\custom_test_valid\\low-dose-lung-cancer-screening-with-lung-nodules.jpg'\n",
    "predictor.predict_siamese(test_image_path)"
   ]
  },
  {
   "cell_type": "code",
   "execution_count": 11,
   "id": "e6a035cf-a390-4bc8-944a-3f1b8ed20866",
   "metadata": {},
   "outputs": [
    {
     "name": "stdout",
     "output_type": "stream",
     "text": [
      "1/1 [==============================] - 0s 22ms/step\n",
      "Comparing D:\\custom_invalid\\istockphoto-with_arrow.jpg with D:\\training_images\\test\\valid\\dummy_class\\f0a1e6ca-66a9-4356-8745-393d7cd1bfd2.png: Distance = [[1.1128287]], Similar = [[False]]\n",
      "1/1 [==============================] - 0s 21ms/step\n",
      "Comparing D:\\custom_invalid\\istockphoto-with_arrow.jpg with D:\\training_images\\test\\valid\\zoomed\\randomized_wl\\61a2ba4b-c740-48f3-bf27-e135ab6eb87e_1.png: Distance = [[1.1128287]], Similar = [[False]]\n",
      "1/1 [==============================] - 0s 21ms/step\n",
      "Comparing D:\\custom_invalid\\istockphoto-with_arrow.jpg with D:\\training_images\\test\\valid\\zoomed\\randomized_wl\\453d8321-65f0-4d13-9ed0-6090e917e113_1.png: Distance = [[1.1128287]], Similar = [[False]]\n",
      "1/1 [==============================] - 0s 19ms/step\n",
      "Comparing D:\\custom_invalid\\istockphoto-with_arrow.jpg with D:\\training_images\\test\\valid\\rotate_and_flip\\cf8ce6b7-f9b1-4c52-812c-3a5ba6dbfa19.png: Distance = [[1.1128287]], Similar = [[False]]\n",
      "1/1 [==============================] - 0s 21ms/step\n",
      "Comparing D:\\custom_invalid\\istockphoto-with_arrow.jpg with D:\\training_images\\test\\valid\\dummy_class\\c681fc5b-b4ab-4b5f-879a-4fa1b93e7e5a.png: Distance = [[1.1128287]], Similar = [[False]]\n",
      "1/1 [==============================] - 0s 22ms/step\n",
      "Comparing D:\\custom_invalid\\istockphoto-with_arrow.jpg with D:\\training_images\\test\\valid\\randomized_wl\\cropped\\e7c854ba-7cc3-41ee-b844-9de4c50de85e_1.png: Distance = [[1.1128287]], Similar = [[False]]\n",
      "1/1 [==============================] - 0s 20ms/step\n",
      "Comparing D:\\custom_invalid\\istockphoto-with_arrow.jpg with D:\\training_images\\test\\valid\\rotate_and_flip\\79e7920e-1155-4777-aec3-66ad3b9af99e.png: Distance = [[1.1128287]], Similar = [[False]]\n",
      "1/1 [==============================] - 0s 19ms/step\n",
      "Comparing D:\\custom_invalid\\istockphoto-with_arrow.jpg with D:\\training_images\\test\\valid\\randomized_wl\\cropped\\b6048bbc-f5b5-4cb8-a59e-577528b5d051_1.png: Distance = [[1.1128287]], Similar = [[False]]\n",
      "1/1 [==============================] - 0s 21ms/step\n",
      "Comparing D:\\custom_invalid\\istockphoto-with_arrow.jpg with D:\\training_images\\test\\valid\\randomized_wl\\cropped\\b91a7683-8714-4189-b981-047338808fc2_1.png: Distance = [[1.1128287]], Similar = [[False]]\n",
      "1/1 [==============================] - 0s 21ms/step\n",
      "Comparing D:\\custom_invalid\\istockphoto-with_arrow.jpg with D:\\training_images\\test\\valid\\rotate_and_flip\\a1ccfa97-8237-4413-ab89-4b3261bd305f.png: Distance = [[0.8149398]], Similar = [[False]]\n",
      "1/1 [==============================] - 0s 23ms/step\n",
      "Comparing D:\\custom_invalid\\istockphoto-with_arrow.jpg with D:\\training_images\\test\\valid\\randomized_wl\\cropped\\291dfb02-dedc-46f2-9b1a-0d5fb71970a0_0.png: Distance = [[1.1128287]], Similar = [[False]]\n",
      "1/1 [==============================] - 0s 21ms/step\n",
      "Comparing D:\\custom_invalid\\istockphoto-with_arrow.jpg with D:\\training_images\\test\\valid\\zoomed\\randomized_wl\\5b555d55-2c0a-4974-83f6-a4c7b4816b98_1.png: Distance = [[1.1128287]], Similar = [[False]]\n",
      "Total votes for 'Similar': [[0]]/12. Final verdict: Anomalous\n"
     ]
    },
    {
     "data": {
      "text/plain": [
       "array([[False]])"
      ]
     },
     "execution_count": 11,
     "metadata": {},
     "output_type": "execute_result"
    }
   ],
   "source": [
    "test_image_path = r'D:\\custom_invalid\\istockphoto-with_arrow.jpg'\n",
    "predictor.predict_siamese(test_image_path)"
   ]
  },
  {
   "cell_type": "code",
   "execution_count": 12,
   "id": "3ed5e3eb-d7b5-4ef5-92a8-6fea7d72c0a3",
   "metadata": {},
   "outputs": [
    {
     "name": "stdout",
     "output_type": "stream",
     "text": [
      "1/1 [==============================] - 0s 22ms/step\n",
      "Comparing D:\\custom_invalid\\Lung_abscess_-_CT_with_overlay.jpg with D:\\training_images\\test\\valid\\rotate_and_flip\\642e1050-3997-477a-a624-0fbcb93e1209.png: Distance = [[0.886097]], Similar = [[False]]\n",
      "1/1 [==============================] - 0s 21ms/step\n",
      "Comparing D:\\custom_invalid\\Lung_abscess_-_CT_with_overlay.jpg with D:\\training_images\\test\\valid\\zoomed\\randomized_wl\\c790c80a-c245-44ee-a5f1-c06666e9b951_1.png: Distance = [[0.886097]], Similar = [[False]]\n",
      "1/1 [==============================] - 0s 21ms/step\n",
      "Comparing D:\\custom_invalid\\Lung_abscess_-_CT_with_overlay.jpg with D:\\training_images\\test\\valid\\randomized_wl\\cropped\\d16c9743-3f0f-4f88-a918-31dd0f569e99_1.png: Distance = [[0.078857]], Similar = [[ True]]\n",
      "1/1 [==============================] - 0s 21ms/step\n",
      "Comparing D:\\custom_invalid\\Lung_abscess_-_CT_with_overlay.jpg with D:\\training_images\\test\\valid\\randomized_wl\\cropped\\fab8297a-ff45-496b-8608-c37a7636042e_0.png: Distance = [[0.886097]], Similar = [[False]]\n",
      "1/1 [==============================] - 0s 21ms/step\n",
      "Comparing D:\\custom_invalid\\Lung_abscess_-_CT_with_overlay.jpg with D:\\training_images\\test\\valid\\rotate_and_flip\\dfa61838-853e-426b-92c1-14dcf33ec809.png: Distance = [[0.886097]], Similar = [[False]]\n",
      "1/1 [==============================] - 0s 21ms/step\n",
      "Comparing D:\\custom_invalid\\Lung_abscess_-_CT_with_overlay.jpg with D:\\training_images\\test\\valid\\zoomed\\randomized_wl\\e244181c-ba1b-4e11-a8ba-2357af9b90ae_0.png: Distance = [[0.886097]], Similar = [[False]]\n",
      "1/1 [==============================] - 0s 23ms/step\n",
      "Comparing D:\\custom_invalid\\Lung_abscess_-_CT_with_overlay.jpg with D:\\training_images\\test\\valid\\randomized_wl\\cropped\\fdf7772c-9be0-458c-9ff1-85bb8fb979b0_0.png: Distance = [[0.46735156]], Similar = [[ True]]\n",
      "1/1 [==============================] - 0s 20ms/step\n",
      "Comparing D:\\custom_invalid\\Lung_abscess_-_CT_with_overlay.jpg with D:\\training_images\\test\\valid\\randomized_wl\\cropped\\107ff504-d5ac-44fb-94ac-bb36f0651db1_1.png: Distance = [[0.886097]], Similar = [[False]]\n",
      "1/1 [==============================] - 0s 22ms/step\n",
      "Comparing D:\\custom_invalid\\Lung_abscess_-_CT_with_overlay.jpg with D:\\training_images\\test\\valid\\zoomed\\randomized_wl\\5f3618cc-6cca-4604-8c7e-3534921889df_0.png: Distance = [[0.886097]], Similar = [[False]]\n",
      "1/1 [==============================] - 0s 21ms/step\n",
      "Comparing D:\\custom_invalid\\Lung_abscess_-_CT_with_overlay.jpg with D:\\training_images\\test\\valid\\rotate_and_flip\\16251b0a-7d72-4583-b212-69deb857fb0f.png: Distance = [[0.886097]], Similar = [[False]]\n",
      "1/1 [==============================] - 0s 21ms/step\n",
      "Comparing D:\\custom_invalid\\Lung_abscess_-_CT_with_overlay.jpg with D:\\training_images\\test\\valid\\zoomed\\randomized_wl\\76c4a65f-d4b8-4ff4-bee7-b275556a7036_0.png: Distance = [[0.886097]], Similar = [[False]]\n",
      "1/1 [==============================] - 0s 21ms/step\n",
      "Comparing D:\\custom_invalid\\Lung_abscess_-_CT_with_overlay.jpg with D:\\training_images\\test\\valid\\zoomed\\randomized_wl\\e4201f06-a78a-474a-afd4-b2e5ba6c4b95_1.png: Distance = [[0.886097]], Similar = [[False]]\n",
      "Total votes for 'Similar': [[2]]/12. Final verdict: Anomalous\n"
     ]
    },
    {
     "data": {
      "text/plain": [
       "array([[False]])"
      ]
     },
     "execution_count": 12,
     "metadata": {},
     "output_type": "execute_result"
    }
   ],
   "source": [
    "test_image_path = r'D:\\custom_invalid\\Lung_abscess_-_CT_with_overlay.jpg'\n",
    "predictor.predict_siamese(test_image_path)"
   ]
  },
  {
   "cell_type": "code",
   "execution_count": 13,
   "id": "b571dcd4-c8e2-4085-ac28-6615ea956e49",
   "metadata": {},
   "outputs": [
    {
     "name": "stdout",
     "output_type": "stream",
     "text": [
      "1/1 [==============================] - 0s 21ms/step\n",
      "Comparing c:\\temp\\ml.png with D:\\training_images\\test\\valid\\zoomed\\randomized_wl\\a6de63a6-fe37-4a27-8f35-1e101212fc89_1.png: Distance = [[1.0298642]], Similar = [[False]]\n",
      "1/1 [==============================] - 0s 23ms/step\n",
      "Comparing c:\\temp\\ml.png with D:\\training_images\\test\\valid\\randomized_wl\\cropped\\ed43e850-2dec-4b56-b3e6-aba1f234c287_0.png: Distance = [[1.0298642]], Similar = [[False]]\n",
      "1/1 [==============================] - 0s 21ms/step\n",
      "Comparing c:\\temp\\ml.png with D:\\training_images\\test\\valid\\randomized_wl\\cropped\\44374976-c8c3-4761-bdb8-03e5ff85bb87_0.png: Distance = [[1.0298642]], Similar = [[False]]\n",
      "1/1 [==============================] - 0s 21ms/step\n",
      "Comparing c:\\temp\\ml.png with D:\\training_images\\test\\valid\\randomized_wl\\cropped\\1dd0816f-40bd-4934-865e-40919aee2f9d_0.png: Distance = [[1.0298642]], Similar = [[False]]\n",
      "1/1 [==============================] - 0s 22ms/step\n",
      "Comparing c:\\temp\\ml.png with D:\\training_images\\test\\valid\\randomized_wl\\cropped\\b764d345-1584-47cf-ab6c-398224208ada_0.png: Distance = [[1.0298642]], Similar = [[False]]\n",
      "1/1 [==============================] - 0s 22ms/step\n",
      "Comparing c:\\temp\\ml.png with D:\\training_images\\test\\valid\\zoomed\\randomized_wl\\55e1ced6-07c3-4ae4-ba9f-55f7be2fc317_1.png: Distance = [[1.0298642]], Similar = [[False]]\n",
      "1/1 [==============================] - 0s 21ms/step\n",
      "Comparing c:\\temp\\ml.png with D:\\training_images\\test\\valid\\rotate_and_flip\\ffc1fd79-dac6-46e0-961e-d83a2d7653e5.png: Distance = [[1.0298642]], Similar = [[False]]\n",
      "1/1 [==============================] - 0s 20ms/step\n",
      "Comparing c:\\temp\\ml.png with D:\\training_images\\test\\valid\\zoomed\\randomized_wl\\4980c8ad-0f43-4448-ba02-03c3f7a421a7_0.png: Distance = [[1.0298642]], Similar = [[False]]\n",
      "1/1 [==============================] - 0s 20ms/step\n",
      "Comparing c:\\temp\\ml.png with D:\\training_images\\test\\valid\\zoomed\\randomized_wl\\d530fb05-7278-4b07-b5ca-9bdde19b239f_0.png: Distance = [[1.0298642]], Similar = [[False]]\n",
      "1/1 [==============================] - 0s 22ms/step\n",
      "Comparing c:\\temp\\ml.png with D:\\training_images\\test\\valid\\zoomed\\randomized_wl\\3308aa9b-a7fc-48d5-961f-86e86f6799fd_0.png: Distance = [[1.0298642]], Similar = [[False]]\n",
      "1/1 [==============================] - 0s 20ms/step\n",
      "Comparing c:\\temp\\ml.png with D:\\training_images\\test\\valid\\dummy_class\\de32d902-a3d0-4605-bdc3-a8020a982cd6.png: Distance = [[1.0298642]], Similar = [[False]]\n",
      "1/1 [==============================] - 0s 23ms/step\n",
      "Comparing c:\\temp\\ml.png with D:\\training_images\\test\\valid\\zoomed\\randomized_wl\\fbedaa8e-84a8-4097-868e-ef9d9ae315d0_0.png: Distance = [[1.0298642]], Similar = [[False]]\n",
      "Total votes for 'Similar': [[0]]/12. Final verdict: Anomalous\n"
     ]
    },
    {
     "data": {
      "text/plain": [
       "array([[False]])"
      ]
     },
     "execution_count": 13,
     "metadata": {},
     "output_type": "execute_result"
    }
   ],
   "source": [
    "test_image_path = r'c:\\temp\\ml.png'\n",
    "predictor.predict_siamese(test_image_path)"
   ]
  },
  {
   "cell_type": "code",
   "execution_count": 14,
   "id": "079be922-c1a5-42ec-96b9-2535a2bb4bf4",
   "metadata": {},
   "outputs": [
    {
     "name": "stdout",
     "output_type": "stream",
     "text": [
      "1/1 [==============================] - 0s 21ms/step\n",
      "Comparing D:\\Custom_invalid\\augmented_0abe42cc-623a-46f2-91ee-be4f339ff73b.png with D:\\training_images\\test\\valid\\randomized_wl\\cropped\\a6e9a6df-2152-4c27-b161-9a1607ce4ef9_1.png: Distance = [[0.13289288]], Similar = [[ True]]\n",
      "1/1 [==============================] - 0s 20ms/step\n",
      "Comparing D:\\Custom_invalid\\augmented_0abe42cc-623a-46f2-91ee-be4f339ff73b.png with D:\\training_images\\test\\valid\\rotate_and_flip\\e820d13c-6209-4277-8a7f-97a1cd6dbd23.png: Distance = [[0.]], Similar = [[ True]]\n",
      "1/1 [==============================] - 0s 20ms/step\n",
      "Comparing D:\\Custom_invalid\\augmented_0abe42cc-623a-46f2-91ee-be4f339ff73b.png with D:\\training_images\\test\\valid\\randomized_wl\\cropped\\7ecc04c4-8bc5-4b85-868e-2bf99c079689_0.png: Distance = [[0.]], Similar = [[ True]]\n",
      "1/1 [==============================] - 0s 23ms/step\n",
      "Comparing D:\\Custom_invalid\\augmented_0abe42cc-623a-46f2-91ee-be4f339ff73b.png with D:\\training_images\\test\\valid\\zoomed\\randomized_wl\\64beb0c8-24e9-43a6-bda6-a329ee232e8a_1.png: Distance = [[0.]], Similar = [[ True]]\n",
      "1/1 [==============================] - 0s 21ms/step\n",
      "Comparing D:\\Custom_invalid\\augmented_0abe42cc-623a-46f2-91ee-be4f339ff73b.png with D:\\training_images\\test\\valid\\randomized_wl\\cropped\\c38e8436-d9bf-4308-ab22-a3361d79c71b_0.png: Distance = [[0.]], Similar = [[ True]]\n",
      "1/1 [==============================] - 0s 22ms/step\n",
      "Comparing D:\\Custom_invalid\\augmented_0abe42cc-623a-46f2-91ee-be4f339ff73b.png with D:\\training_images\\test\\valid\\rotate_and_flip\\c060be95-c70c-4022-a80a-9667a2cfd8ad.png: Distance = [[0.]], Similar = [[ True]]\n",
      "1/1 [==============================] - 0s 22ms/step\n",
      "Comparing D:\\Custom_invalid\\augmented_0abe42cc-623a-46f2-91ee-be4f339ff73b.png with D:\\training_images\\test\\valid\\randomized_wl\\cropped\\f78b7520-8ba0-49f4-bb03-6b83e49cf8b2_0.png: Distance = [[0.]], Similar = [[ True]]\n",
      "1/1 [==============================] - 0s 20ms/step\n",
      "Comparing D:\\Custom_invalid\\augmented_0abe42cc-623a-46f2-91ee-be4f339ff73b.png with D:\\training_images\\test\\valid\\randomized_wl\\cropped\\7be10dbf-0923-43ef-8257-48fd80882876_0.png: Distance = [[0.]], Similar = [[ True]]\n",
      "1/1 [==============================] - 0s 21ms/step\n",
      "Comparing D:\\Custom_invalid\\augmented_0abe42cc-623a-46f2-91ee-be4f339ff73b.png with D:\\training_images\\test\\valid\\zoomed\\randomized_wl\\7b786536-f33f-4f61-b29a-f9f8aad246ea_0.png: Distance = [[0.]], Similar = [[ True]]\n",
      "1/1 [==============================] - 0s 22ms/step\n",
      "Comparing D:\\Custom_invalid\\augmented_0abe42cc-623a-46f2-91ee-be4f339ff73b.png with D:\\training_images\\test\\valid\\dummy_class\\35d4143d-bdf4-48aa-804b-d033355531e7.png: Distance = [[0.]], Similar = [[ True]]\n",
      "1/1 [==============================] - 0s 22ms/step\n",
      "Comparing D:\\Custom_invalid\\augmented_0abe42cc-623a-46f2-91ee-be4f339ff73b.png with D:\\training_images\\test\\valid\\rotate_and_flip\\2c1ec91a-070c-47c3-8c6d-497908239ffe.png: Distance = [[0.]], Similar = [[ True]]\n",
      "1/1 [==============================] - 0s 22ms/step\n",
      "Comparing D:\\Custom_invalid\\augmented_0abe42cc-623a-46f2-91ee-be4f339ff73b.png with D:\\training_images\\test\\valid\\dummy_class\\ba6c41f7-8dc7-4976-9d11-7dbbd6ab4996.png: Distance = [[0.]], Similar = [[ True]]\n",
      "Total votes for 'Similar': [[12]]/12. Final verdict: Normal\n"
     ]
    },
    {
     "data": {
      "text/plain": [
       "array([[ True]])"
      ]
     },
     "execution_count": 14,
     "metadata": {},
     "output_type": "execute_result"
    }
   ],
   "source": [
    "test_image_path = r'D:\\Custom_invalid\\augmented_0abe42cc-623a-46f2-91ee-be4f339ff73b.png'\n",
    "predictor.predict_siamese(test_image_path)"
   ]
  },
  {
   "cell_type": "code",
   "execution_count": 15,
   "id": "bc234208-6ff2-490c-ab8a-3ca6af97f4a4",
   "metadata": {},
   "outputs": [
    {
     "name": "stdout",
     "output_type": "stream",
     "text": [
      "Failed to open image at C:\\temp\\medical_image_black_borders.png: [Errno 2] No such file or directory: 'C:\\\\temp\\\\medical_image_black_borders.png'\n",
      "Failed to preprocess test image at C:\\temp\\medical_image_black_borders.png\n"
     ]
    }
   ],
   "source": [
    "test_image_path = r'C:\\temp\\medical_image_black_borders.png'\n",
    "predictor.predict_siamese(test_image_path)"
   ]
  },
  {
   "cell_type": "code",
   "execution_count": 16,
   "id": "4f112c07-b2ee-4e02-a81c-310c547e6e78",
   "metadata": {},
   "outputs": [
    {
     "name": "stdout",
     "output_type": "stream",
     "text": [
      "1/1 [==============================] - 0s 20ms/step\n",
      "Comparing C:\\temp\\medical_image_no_borders.png with D:\\training_images\\test\\valid\\randomized_wl\\cropped\\c7b7167a-2ec5-4688-a5cf-e0f36c24c66b_1.png: Distance = [[0.78186643]], Similar = [[False]]\n",
      "1/1 [==============================] - 0s 21ms/step\n",
      "Comparing C:\\temp\\medical_image_no_borders.png with D:\\training_images\\test\\valid\\rotate_and_flip\\9f40967d-2b37-44d9-9abe-a84ca91b3895.png: Distance = [[0.78186643]], Similar = [[False]]\n",
      "1/1 [==============================] - 0s 23ms/step\n",
      "Comparing C:\\temp\\medical_image_no_borders.png with D:\\training_images\\test\\valid\\randomized_wl\\cropped\\f491fabe-538b-470e-9218-ee084b603fce_0.png: Distance = [[0.78186643]], Similar = [[False]]\n",
      "1/1 [==============================] - 0s 21ms/step\n",
      "Comparing C:\\temp\\medical_image_no_borders.png with D:\\training_images\\test\\valid\\randomized_wl\\cropped\\29e1358e-52c5-4abe-a66a-bd853e6d538f_0.png: Distance = [[0.78186643]], Similar = [[False]]\n",
      "1/1 [==============================] - 0s 20ms/step\n",
      "Comparing C:\\temp\\medical_image_no_borders.png with D:\\training_images\\test\\valid\\randomized_wl\\cropped\\21e8436d-428c-4094-abcc-ffee904db7b5_1.png: Distance = [[0.78186643]], Similar = [[False]]\n",
      "1/1 [==============================] - 0s 21ms/step\n",
      "Comparing C:\\temp\\medical_image_no_borders.png with D:\\training_images\\test\\valid\\rotate_and_flip\\5801bfcf-bced-4872-89f0-9fdc6012871a.png: Distance = [[0.78186643]], Similar = [[False]]\n",
      "1/1 [==============================] - 0s 21ms/step\n",
      "Comparing C:\\temp\\medical_image_no_borders.png with D:\\training_images\\test\\valid\\randomized_wl\\cropped\\2b618fc4-837a-4c8c-945a-fb8d7c7fc66f_0.png: Distance = [[0.78186643]], Similar = [[False]]\n",
      "1/1 [==============================] - 0s 22ms/step\n",
      "Comparing C:\\temp\\medical_image_no_borders.png with D:\\training_images\\test\\valid\\rotate_and_flip\\4b4b761b-4820-492f-b68d-1f93cde877e7.png: Distance = [[0.78186643]], Similar = [[False]]\n",
      "1/1 [==============================] - 0s 21ms/step\n",
      "Comparing C:\\temp\\medical_image_no_borders.png with D:\\training_images\\test\\valid\\rotate_and_flip\\641e510c-4b06-4467-9e9d-7865bfa2a585.png: Distance = [[0.78186643]], Similar = [[False]]\n",
      "1/1 [==============================] - 0s 22ms/step\n",
      "Comparing C:\\temp\\medical_image_no_borders.png with D:\\training_images\\test\\valid\\rotate_and_flip\\b4215994-759b-49c0-bea8-5837e8d5d6db.png: Distance = [[0.78186643]], Similar = [[False]]\n",
      "1/1 [==============================] - 0s 20ms/step\n",
      "Comparing C:\\temp\\medical_image_no_borders.png with D:\\training_images\\test\\valid\\randomized_wl\\cropped\\6d6cbf93-8bb6-4257-9f23-82603773035a_0.png: Distance = [[0.78186643]], Similar = [[False]]\n",
      "1/1 [==============================] - 0s 21ms/step\n",
      "Comparing C:\\temp\\medical_image_no_borders.png with D:\\training_images\\test\\valid\\zoomed\\randomized_wl\\9dce162f-2b56-4c4e-862c-b884a2b3377b_0.png: Distance = [[0.78186643]], Similar = [[False]]\n",
      "Total votes for 'Similar': [[0]]/12. Final verdict: Anomalous\n"
     ]
    },
    {
     "data": {
      "text/plain": [
       "array([[False]])"
      ]
     },
     "execution_count": 16,
     "metadata": {},
     "output_type": "execute_result"
    }
   ],
   "source": [
    "test_image_path = r'C:\\temp\\medical_image_no_borders.png'\n",
    "predictor.predict_siamese(test_image_path)"
   ]
  },
  {
   "cell_type": "code",
   "execution_count": 17,
   "id": "ddc940b6-f90a-4f8d-8580-84d348863723",
   "metadata": {},
   "outputs": [
    {
     "name": "stdout",
     "output_type": "stream",
     "text": [
      "1/1 [==============================] - 0s 22ms/step\n",
      "Comparing C:\\temp\\white_square_black_borders.png with D:\\training_images\\test\\valid\\zoomed\\randomized_wl\\b197975b-6d07-40df-8049-e51791561efd_1.png: Distance = [[0.88069415]], Similar = [[False]]\n",
      "1/1 [==============================] - 0s 20ms/step\n",
      "Comparing C:\\temp\\white_square_black_borders.png with D:\\training_images\\test\\valid\\zoomed\\randomized_wl\\e9406de0-2d76-44a3-91bd-195efd0badd6_0.png: Distance = [[0.88069415]], Similar = [[False]]\n",
      "1/1 [==============================] - 0s 20ms/step\n",
      "Comparing C:\\temp\\white_square_black_borders.png with D:\\training_images\\test\\valid\\randomized_wl\\cropped\\ba003dd0-508d-433d-8736-9528c1ac070d_1.png: Distance = [[0.76999956]], Similar = [[False]]\n",
      "1/1 [==============================] - 0s 21ms/step\n",
      "Comparing C:\\temp\\white_square_black_borders.png with D:\\training_images\\test\\valid\\zoomed\\randomized_wl\\b2df743e-0f8d-4fe0-8fd9-80500a138c5c_0.png: Distance = [[0.88069415]], Similar = [[False]]\n",
      "1/1 [==============================] - 0s 20ms/step\n",
      "Comparing C:\\temp\\white_square_black_borders.png with D:\\training_images\\test\\valid\\randomized_wl\\cropped\\19847aba-9d24-4772-b5d2-07c474a7ef58_0.png: Distance = [[0.88069415]], Similar = [[False]]\n",
      "1/1 [==============================] - 0s 21ms/step\n",
      "Comparing C:\\temp\\white_square_black_borders.png with D:\\training_images\\test\\valid\\zoomed\\randomized_wl\\6f2f4d43-c7bf-4434-a8bb-269cd579f873_1.png: Distance = [[0.88069415]], Similar = [[False]]\n",
      "1/1 [==============================] - 0s 20ms/step\n",
      "Comparing C:\\temp\\white_square_black_borders.png with D:\\training_images\\test\\valid\\randomized_wl\\cropped\\acc7c15e-e918-4724-80f9-7b2042a39a17_0.png: Distance = [[0.88069415]], Similar = [[False]]\n",
      "1/1 [==============================] - 0s 21ms/step\n",
      "Comparing C:\\temp\\white_square_black_borders.png with D:\\training_images\\test\\valid\\rotate_and_flip\\3308aa9b-a7fc-48d5-961f-86e86f6799fd.png: Distance = [[0.88069415]], Similar = [[False]]\n",
      "1/1 [==============================] - 0s 23ms/step\n",
      "Comparing C:\\temp\\white_square_black_borders.png with D:\\training_images\\test\\valid\\dummy_class\\a2dd7fcc-35d5-4a7f-a974-7d9939d95c4f.png: Distance = [[0.88069415]], Similar = [[False]]\n",
      "1/1 [==============================] - 0s 22ms/step\n",
      "Comparing C:\\temp\\white_square_black_borders.png with D:\\training_images\\test\\valid\\dummy_class\\3ed204be-86c7-4af6-92dc-e50fe1af26b9.png: Distance = [[0.88069415]], Similar = [[False]]\n",
      "1/1 [==============================] - 0s 22ms/step\n",
      "Comparing C:\\temp\\white_square_black_borders.png with D:\\training_images\\test\\valid\\dummy_class\\577f5aaf-4ce7-42e3-bfe9-2309e34f994b.png: Distance = [[0.88069415]], Similar = [[False]]\n",
      "1/1 [==============================] - 0s 22ms/step\n",
      "Comparing C:\\temp\\white_square_black_borders.png with D:\\training_images\\test\\valid\\randomized_wl\\cropped\\ef55f33f-5d45-4342-a5b9-89baf552a556_0.png: Distance = [[0.88069415]], Similar = [[False]]\n",
      "Total votes for 'Similar': [[0]]/12. Final verdict: Anomalous\n"
     ]
    },
    {
     "data": {
      "text/plain": [
       "array([[False]])"
      ]
     },
     "execution_count": 17,
     "metadata": {},
     "output_type": "execute_result"
    }
   ],
   "source": [
    "test_image_path = r'C:\\temp\\white_square_black_borders.png'\n",
    "predictor.predict_siamese(test_image_path)"
   ]
  },
  {
   "cell_type": "code",
   "execution_count": 18,
   "id": "525aca97-8ce8-495b-bc01-ff44f5cd31bd",
   "metadata": {},
   "outputs": [
    {
     "name": "stdout",
     "output_type": "stream",
     "text": [
      "1/1 [==============================] - 0s 21ms/step\n",
      "Comparing C:\\temp\\white_square2_black_borders.png with D:\\training_images\\test\\valid\\randomized_wl\\cropped\\1fd6cf8a-0da9-4e25-b39a-e084b6ddc12e_0.png: Distance = [[0.5400592]], Similar = [[False]]\n",
      "1/1 [==============================] - 0s 21ms/step\n",
      "Comparing C:\\temp\\white_square2_black_borders.png with D:\\training_images\\test\\valid\\randomized_wl\\cropped\\fa32afd7-ab3d-45e2-a9bb-bd6dc1073cda_1.png: Distance = [[0.5400592]], Similar = [[False]]\n",
      "1/1 [==============================] - 0s 21ms/step\n",
      "Comparing C:\\temp\\white_square2_black_borders.png with D:\\training_images\\test\\valid\\rotate_and_flip\\d5265095-4b7f-4bfd-af0e-3ee60951ba90.png: Distance = [[0.5400592]], Similar = [[False]]\n",
      "1/1 [==============================] - 0s 20ms/step\n",
      "Comparing C:\\temp\\white_square2_black_borders.png with D:\\training_images\\test\\valid\\rotate_and_flip\\d530fb05-7278-4b07-b5ca-9bdde19b239f.png: Distance = [[0.5400592]], Similar = [[False]]\n",
      "1/1 [==============================] - 0s 20ms/step\n",
      "Comparing C:\\temp\\white_square2_black_borders.png with D:\\training_images\\test\\valid\\rotate_and_flip\\861210b8-8dfd-43d8-8694-d1940b951b52.png: Distance = [[0.5400592]], Similar = [[False]]\n",
      "1/1 [==============================] - 0s 21ms/step\n",
      "Comparing C:\\temp\\white_square2_black_borders.png with D:\\training_images\\test\\valid\\randomized_wl\\cropped\\19847aba-9d24-4772-b5d2-07c474a7ef58_0.png: Distance = [[0.5400592]], Similar = [[False]]\n",
      "1/1 [==============================] - 0s 21ms/step\n",
      "Comparing C:\\temp\\white_square2_black_borders.png with D:\\training_images\\test\\valid\\randomized_wl\\cropped\\0661ed7a-edcb-4888-84e8-12ab1f559f4a_0.png: Distance = [[0.4628652]], Similar = [[ True]]\n",
      "1/1 [==============================] - 0s 22ms/step\n",
      "Comparing C:\\temp\\white_square2_black_borders.png with D:\\training_images\\test\\valid\\randomized_wl\\cropped\\68c0ec5b-7188-411f-a939-c914562f8910_0.png: Distance = [[0.5400592]], Similar = [[False]]\n",
      "1/1 [==============================] - 0s 21ms/step\n",
      "Comparing C:\\temp\\white_square2_black_borders.png with D:\\training_images\\test\\valid\\zoomed\\randomized_wl\\a6c95334-0ba2-4180-9a9a-90b945c777e2_1.png: Distance = [[0.5400592]], Similar = [[False]]\n",
      "1/1 [==============================] - 0s 20ms/step\n",
      "Comparing C:\\temp\\white_square2_black_borders.png with D:\\training_images\\test\\valid\\zoomed\\randomized_wl\\e4a3e90d-e038-41ca-a549-adc72c61fb71_0.png: Distance = [[0.5400592]], Similar = [[False]]\n",
      "1/1 [==============================] - 0s 21ms/step\n",
      "Comparing C:\\temp\\white_square2_black_borders.png with D:\\training_images\\test\\valid\\randomized_wl\\cropped\\c79a2de8-2b58-4d20-866d-00fa63dc8efc_0.png: Distance = [[0.5400592]], Similar = [[False]]\n",
      "1/1 [==============================] - 0s 21ms/step\n",
      "Comparing C:\\temp\\white_square2_black_borders.png with D:\\training_images\\test\\valid\\randomized_wl\\cropped\\4245a596-b51d-4b07-9e3b-86b5b597440b_0.png: Distance = [[0.5400592]], Similar = [[False]]\n",
      "Total votes for 'Similar': [[1]]/12. Final verdict: Anomalous\n"
     ]
    },
    {
     "data": {
      "text/plain": [
       "array([[False]])"
      ]
     },
     "execution_count": 18,
     "metadata": {},
     "output_type": "execute_result"
    }
   ],
   "source": [
    "test_image_path = r'C:\\temp\\white_square2_black_borders.png'\n",
    "predictor.predict_siamese(test_image_path)"
   ]
  },
  {
   "cell_type": "code",
   "execution_count": null,
   "id": "e107c627-297b-448d-a682-261bb5a0ebfa",
   "metadata": {},
   "outputs": [],
   "source": []
  },
  {
   "cell_type": "code",
   "execution_count": 19,
   "id": "a3812dd1-c7fe-4845-91fa-22983f38881f",
   "metadata": {},
   "outputs": [
    {
     "name": "stdout",
     "output_type": "stream",
     "text": [
      "1/1 [==============================] - 0s 21ms/step\n",
      "Comparing C:\\temp\\white_square3_black_borders.png with D:\\training_images\\test\\valid\\randomized_wl\\cropped\\9e77a6c4-8d53-44ed-a0df-7a8af7a5587f_1.png: Distance = [[0.3412102]], Similar = [[ True]]\n",
      "1/1 [==============================] - 0s 21ms/step\n",
      "Comparing C:\\temp\\white_square3_black_borders.png with D:\\training_images\\test\\valid\\dummy_class\\c4004cfd-53b5-4699-a010-54e64faa9934.png: Distance = [[0.3412102]], Similar = [[ True]]\n",
      "1/1 [==============================] - 0s 20ms/step\n",
      "Comparing C:\\temp\\white_square3_black_borders.png with D:\\training_images\\test\\valid\\rotate_and_flip\\fab8297a-ff45-496b-8608-c37a7636042e.png: Distance = [[0.31177735]], Similar = [[ True]]\n",
      "1/1 [==============================] - 0s 21ms/step\n",
      "Comparing C:\\temp\\white_square3_black_borders.png with D:\\training_images\\test\\valid\\randomized_wl\\cropped\\6266553a-235c-4e19-aeaf-d5212f5cee08_0.png: Distance = [[0.3412102]], Similar = [[ True]]\n",
      "1/1 [==============================] - 0s 21ms/step\n",
      "Comparing C:\\temp\\white_square3_black_borders.png with D:\\training_images\\test\\valid\\rotate_and_flip\\544fedcc-e5ec-484a-94b7-983d1def7d2e.png: Distance = [[0.3412102]], Similar = [[ True]]\n",
      "1/1 [==============================] - 0s 21ms/step\n",
      "Comparing C:\\temp\\white_square3_black_borders.png with D:\\training_images\\test\\valid\\randomized_wl\\cropped\\5e303c46-4a16-4ca5-8ad0-9c5389a8985b_1.png: Distance = [[0.3412102]], Similar = [[ True]]\n",
      "1/1 [==============================] - 0s 21ms/step\n",
      "Comparing C:\\temp\\white_square3_black_borders.png with D:\\training_images\\test\\valid\\randomized_wl\\cropped\\c5423e86-1937-443f-abe0-61de2d28a56c_0.png: Distance = [[0.3412102]], Similar = [[ True]]\n",
      "1/1 [==============================] - 0s 23ms/step\n",
      "Comparing C:\\temp\\white_square3_black_borders.png with D:\\training_images\\test\\valid\\zoomed\\randomized_wl\\db97485c-fb19-4d49-a8e2-779ded815924_1.png: Distance = [[0.3412102]], Similar = [[ True]]\n",
      "1/1 [==============================] - 0s 22ms/step\n",
      "Comparing C:\\temp\\white_square3_black_borders.png with D:\\training_images\\test\\valid\\zoomed\\randomized_wl\\5b141047-1c76-4f49-a244-145c90e99e94_1.png: Distance = [[0.3412102]], Similar = [[ True]]\n",
      "1/1 [==============================] - 0s 21ms/step\n",
      "Comparing C:\\temp\\white_square3_black_borders.png with D:\\training_images\\test\\valid\\zoomed\\randomized_wl\\75bd19ef-f72b-4dba-84d0-b38df1ad7851_1.png: Distance = [[0.3412102]], Similar = [[ True]]\n",
      "1/1 [==============================] - 0s 21ms/step\n",
      "Comparing C:\\temp\\white_square3_black_borders.png with D:\\training_images\\test\\valid\\rotate_and_flip\\54a9e8e0-9e49-498e-963d-2da5968d5d27.png: Distance = [[0.3412102]], Similar = [[ True]]\n",
      "1/1 [==============================] - 0s 23ms/step\n",
      "Comparing C:\\temp\\white_square3_black_borders.png with D:\\training_images\\test\\valid\\zoomed\\randomized_wl\\677421ce-5a54-4149-a840-9619da2bc634_1.png: Distance = [[0.3412102]], Similar = [[ True]]\n",
      "Total votes for 'Similar': [[12]]/12. Final verdict: Normal\n"
     ]
    },
    {
     "data": {
      "text/plain": [
       "array([[ True]])"
      ]
     },
     "execution_count": 19,
     "metadata": {},
     "output_type": "execute_result"
    }
   ],
   "source": [
    "test_image_path = r'C:\\temp\\white_square3_black_borders.png'\n",
    "predictor.predict_siamese(test_image_path)"
   ]
  },
  {
   "cell_type": "code",
   "execution_count": 20,
   "id": "03014ad4-877c-4c9a-bd51-f8e00e6ed3b2",
   "metadata": {},
   "outputs": [
    {
     "name": "stdout",
     "output_type": "stream",
     "text": [
      "1/1 [==============================] - 0s 21ms/step\n",
      "Comparing C:\\temp\\white_square2.5_black_borders.png with D:\\training_images\\test\\valid\\zoomed\\randomized_wl\\538498ef-8f41-4807-83b9-bced7f9d18cb_0.png: Distance = [[0.5299428]], Similar = [[False]]\n",
      "1/1 [==============================] - 0s 19ms/step\n",
      "Comparing C:\\temp\\white_square2.5_black_borders.png with D:\\training_images\\test\\valid\\randomized_wl\\cropped\\81d9eaf5-8f98-4dff-94e2-e03f4eb8a3df_0.png: Distance = [[0.5299428]], Similar = [[False]]\n",
      "1/1 [==============================] - 0s 20ms/step\n",
      "Comparing C:\\temp\\white_square2.5_black_borders.png with D:\\training_images\\test\\valid\\zoomed\\randomized_wl\\4ea4c58a-7645-402d-9839-defa5d3f627b_0.png: Distance = [[0.5299428]], Similar = [[False]]\n",
      "1/1 [==============================] - 0s 20ms/step\n",
      "Comparing C:\\temp\\white_square2.5_black_borders.png with D:\\training_images\\test\\valid\\dummy_class\\0825e22d-4170-403e-9632-daca06b5313a.png: Distance = [[0.5299428]], Similar = [[False]]\n",
      "1/1 [==============================] - 0s 23ms/step\n",
      "Comparing C:\\temp\\white_square2.5_black_borders.png with D:\\training_images\\test\\valid\\zoomed\\randomized_wl\\7812df3f-a262-4f8a-a911-29ce8edb3f28_1.png: Distance = [[0.5299428]], Similar = [[False]]\n",
      "1/1 [==============================] - 0s 21ms/step\n",
      "Comparing C:\\temp\\white_square2.5_black_borders.png with D:\\training_images\\test\\valid\\randomized_wl\\cropped\\8dcc351b-d91c-4714-b04a-df033e852c36_1.png: Distance = [[0.5299428]], Similar = [[False]]\n",
      "1/1 [==============================] - 0s 22ms/step\n",
      "Comparing C:\\temp\\white_square2.5_black_borders.png with D:\\training_images\\test\\valid\\zoomed\\randomized_wl\\0c50f78b-8270-4e7b-96b3-84223836fe84_0.png: Distance = [[0.5299428]], Similar = [[False]]\n",
      "1/1 [==============================] - 0s 22ms/step\n",
      "Comparing C:\\temp\\white_square2.5_black_borders.png with D:\\training_images\\test\\valid\\zoomed\\randomized_wl\\d12a4d18-8ea6-47e7-9007-88c2200fc50c_1.png: Distance = [[0.5299428]], Similar = [[False]]\n",
      "1/1 [==============================] - 0s 21ms/step\n",
      "Comparing C:\\temp\\white_square2.5_black_borders.png with D:\\training_images\\test\\valid\\dummy_class\\a709de3e-a9c3-4206-939e-32c3c948ac93.png: Distance = [[0.5299428]], Similar = [[False]]\n",
      "1/1 [==============================] - 0s 20ms/step\n",
      "Comparing C:\\temp\\white_square2.5_black_borders.png with D:\\training_images\\test\\valid\\randomized_wl\\cropped\\45008e6b-056c-45a2-8624-e2e6e63ce7f2_1.png: Distance = [[0.5299428]], Similar = [[False]]\n",
      "1/1 [==============================] - 0s 21ms/step\n",
      "Comparing C:\\temp\\white_square2.5_black_borders.png with D:\\training_images\\test\\valid\\zoomed\\randomized_wl\\83daf035-872c-4d79-9c58-972e2c38dd66_0.png: Distance = [[0.11915022]], Similar = [[ True]]\n",
      "1/1 [==============================] - 0s 20ms/step\n",
      "Comparing C:\\temp\\white_square2.5_black_borders.png with D:\\training_images\\test\\valid\\rotate_and_flip\\a6de63a6-fe37-4a27-8f35-1e101212fc89.png: Distance = [[0.5299428]], Similar = [[False]]\n",
      "Total votes for 'Similar': [[1]]/12. Final verdict: Anomalous\n"
     ]
    },
    {
     "data": {
      "text/plain": [
       "array([[False]])"
      ]
     },
     "execution_count": 20,
     "metadata": {},
     "output_type": "execute_result"
    }
   ],
   "source": [
    "test_image_path = r'C:\\temp\\white_square2.5_black_borders.png'\n",
    "predictor.predict_siamese(test_image_path)"
   ]
  },
  {
   "cell_type": "code",
   "execution_count": 21,
   "id": "0c29af70-c703-44c0-acf5-d00c987b73b1",
   "metadata": {},
   "outputs": [
    {
     "name": "stdout",
     "output_type": "stream",
     "text": [
      "1/1 [==============================] - 0s 23ms/step\n",
      "Comparing C:\\temp\\medical_image_zoomed.png with D:\\training_images\\test\\valid\\zoomed\\randomized_wl\\a01b5d19-26b8-4d5d-a9f7-24944ff7cc59_1.png: Distance = [[0.17103626]], Similar = [[ True]]\n",
      "1/1 [==============================] - 0s 21ms/step\n",
      "Comparing C:\\temp\\medical_image_zoomed.png with D:\\training_images\\test\\valid\\randomized_wl\\cropped\\422afcef-fe48-4112-9eb8-5393f4b612e5_0.png: Distance = [[0.17103626]], Similar = [[ True]]\n",
      "1/1 [==============================] - 0s 22ms/step\n",
      "Comparing C:\\temp\\medical_image_zoomed.png with D:\\training_images\\test\\valid\\randomized_wl\\cropped\\bed214af-0f8f-460d-8e64-6ea8dc6c2ac5_1.png: Distance = [[0.17103626]], Similar = [[ True]]\n",
      "1/1 [==============================] - 0s 21ms/step\n",
      "Comparing C:\\temp\\medical_image_zoomed.png with D:\\training_images\\test\\valid\\randomized_wl\\cropped\\9041adb7-47b1-45df-8836-52a3efb3163e_1.png: Distance = [[0.17103626]], Similar = [[ True]]\n",
      "1/1 [==============================] - 0s 21ms/step\n",
      "Comparing C:\\temp\\medical_image_zoomed.png with D:\\training_images\\test\\valid\\rotate_and_flip\\35d5f4c2-091d-475d-be7a-49054211db11.png: Distance = [[0.17103626]], Similar = [[ True]]\n",
      "1/1 [==============================] - 0s 22ms/step\n",
      "Comparing C:\\temp\\medical_image_zoomed.png with D:\\training_images\\test\\valid\\randomized_wl\\cropped\\7f921ad5-9782-4f04-9ab5-87cff7e4f311_0.png: Distance = [[0.17103626]], Similar = [[ True]]\n",
      "1/1 [==============================] - 0s 22ms/step\n",
      "Comparing C:\\temp\\medical_image_zoomed.png with D:\\training_images\\test\\valid\\rotate_and_flip\\3f20cb02-b337-4401-b073-cd9964ada5de.png: Distance = [[0.17103626]], Similar = [[ True]]\n",
      "1/1 [==============================] - 0s 21ms/step\n",
      "Comparing C:\\temp\\medical_image_zoomed.png with D:\\training_images\\test\\valid\\zoomed\\randomized_wl\\bc2eda05-54a7-4c19-b55e-2eb2a2365900_1.png: Distance = [[0.17103626]], Similar = [[ True]]\n",
      "1/1 [==============================] - 0s 20ms/step\n",
      "Comparing C:\\temp\\medical_image_zoomed.png with D:\\training_images\\test\\valid\\dummy_class\\0bbc2e2d-52fe-47c2-97a0-7b4f5a62680b.png: Distance = [[0.17103626]], Similar = [[ True]]\n",
      "1/1 [==============================] - 0s 20ms/step\n",
      "Comparing C:\\temp\\medical_image_zoomed.png with D:\\training_images\\test\\valid\\zoomed\\randomized_wl\\ef468eb7-987c-4bd9-9b83-23b82b673775_0.png: Distance = [[0.17103626]], Similar = [[ True]]\n",
      "1/1 [==============================] - 0s 21ms/step\n",
      "Comparing C:\\temp\\medical_image_zoomed.png with D:\\training_images\\test\\valid\\zoomed\\randomized_wl\\958caa9c-2755-4b3b-80ef-a7e158d09d0e_1.png: Distance = [[0.17103626]], Similar = [[ True]]\n",
      "1/1 [==============================] - 0s 20ms/step\n",
      "Comparing C:\\temp\\medical_image_zoomed.png with D:\\training_images\\test\\valid\\zoomed\\randomized_wl\\2d497f55-e0fd-4863-b6f5-6a7dbfd989d2_0.png: Distance = [[0.17103626]], Similar = [[ True]]\n",
      "Total votes for 'Similar': [[12]]/12. Final verdict: Normal\n"
     ]
    },
    {
     "data": {
      "text/plain": [
       "array([[ True]])"
      ]
     },
     "execution_count": 21,
     "metadata": {},
     "output_type": "execute_result"
    }
   ],
   "source": [
    "test_image_path = r'C:\\temp\\medical_image_zoomed.png'\n",
    "predictor.predict_siamese(test_image_path)"
   ]
  },
  {
   "cell_type": "code",
   "execution_count": 22,
   "id": "c28cc1b8-ff78-488c-bb04-24fd03ff71d5",
   "metadata": {
    "scrolled": true
   },
   "outputs": [
    {
     "name": "stdout",
     "output_type": "stream",
     "text": [
      "1/1 [==============================] - 0s 21ms/step\n",
      "Comparing C:\\temp\\medical_image_zoomed_resized_modified_aspect_ratio.png with D:\\training_images\\test\\valid\\zoomed\\randomized_wl\\e7cbcc27-3993-48fd-99ef-68be6f363cbd_0.png: Distance = [[0.1612988]], Similar = [[ True]]\n",
      "1/1 [==============================] - 0s 21ms/step\n",
      "Comparing C:\\temp\\medical_image_zoomed_resized_modified_aspect_ratio.png with D:\\training_images\\test\\valid\\rotate_and_flip\\99774bc4-7597-451f-a0f5-d065231ebd86.png: Distance = [[0.1612988]], Similar = [[ True]]\n",
      "1/1 [==============================] - 0s 21ms/step\n",
      "Comparing C:\\temp\\medical_image_zoomed_resized_modified_aspect_ratio.png with D:\\training_images\\test\\valid\\zoomed\\randomized_wl\\74c4d0e5-6a6a-4ca6-8262-0e8c4f41af18_1.png: Distance = [[0.1612988]], Similar = [[ True]]\n",
      "1/1 [==============================] - 0s 21ms/step\n",
      "Comparing C:\\temp\\medical_image_zoomed_resized_modified_aspect_ratio.png with D:\\training_images\\test\\valid\\dummy_class\\2dc9cf4f-a965-4499-b458-b60c866f3077.png: Distance = [[0.1612988]], Similar = [[ True]]\n",
      "1/1 [==============================] - 0s 22ms/step\n",
      "Comparing C:\\temp\\medical_image_zoomed_resized_modified_aspect_ratio.png with D:\\training_images\\test\\valid\\zoomed\\randomized_wl\\613c4ba9-12ac-4c4b-afb1-c0ed3e3d3fe6_0.png: Distance = [[0.1612988]], Similar = [[ True]]\n",
      "1/1 [==============================] - 0s 20ms/step\n",
      "Comparing C:\\temp\\medical_image_zoomed_resized_modified_aspect_ratio.png with D:\\training_images\\test\\valid\\randomized_wl\\cropped\\6492c51a-3228-453f-9e40-d5b6b6d943e5_1.png: Distance = [[0.1612988]], Similar = [[ True]]\n",
      "1/1 [==============================] - 0s 22ms/step\n",
      "Comparing C:\\temp\\medical_image_zoomed_resized_modified_aspect_ratio.png with D:\\training_images\\test\\valid\\zoomed\\randomized_wl\\b85f7e71-5a67-479d-8a32-9796412fb2f0_0.png: Distance = [[0.1612988]], Similar = [[ True]]\n",
      "1/1 [==============================] - 0s 21ms/step\n",
      "Comparing C:\\temp\\medical_image_zoomed_resized_modified_aspect_ratio.png with D:\\training_images\\test\\valid\\randomized_wl\\cropped\\4421e886-34c2-4240-b236-02f92a0d4fba_1.png: Distance = [[0.3070529]], Similar = [[ True]]\n",
      "1/1 [==============================] - 0s 19ms/step\n",
      "Comparing C:\\temp\\medical_image_zoomed_resized_modified_aspect_ratio.png with D:\\training_images\\test\\valid\\randomized_wl\\cropped\\df622e0c-7201-4a60-9a2d-ac1c8a5a2674_0.png: Distance = [[0.1612988]], Similar = [[ True]]\n",
      "1/1 [==============================] - 0s 20ms/step\n",
      "Comparing C:\\temp\\medical_image_zoomed_resized_modified_aspect_ratio.png with D:\\training_images\\test\\valid\\rotate_and_flip\\02538f91-e77a-4bae-928d-df2ee3d82f77.png: Distance = [[0.1612988]], Similar = [[ True]]\n",
      "1/1 [==============================] - 0s 21ms/step\n",
      "Comparing C:\\temp\\medical_image_zoomed_resized_modified_aspect_ratio.png with D:\\training_images\\test\\valid\\zoomed\\randomized_wl\\4f76edb1-241a-4335-a0a6-1c8ee65b3b6d_0.png: Distance = [[0.1612988]], Similar = [[ True]]\n",
      "1/1 [==============================] - 0s 21ms/step\n",
      "Comparing C:\\temp\\medical_image_zoomed_resized_modified_aspect_ratio.png with D:\\training_images\\test\\valid\\randomized_wl\\cropped\\44500ff4-54d4-4508-837c-283ed8115e72_0.png: Distance = [[0.1612988]], Similar = [[ True]]\n",
      "Total votes for 'Similar': [[12]]/12. Final verdict: Normal\n"
     ]
    },
    {
     "data": {
      "text/plain": [
       "array([[ True]])"
      ]
     },
     "execution_count": 22,
     "metadata": {},
     "output_type": "execute_result"
    }
   ],
   "source": [
    "test_image_path = r'C:\\temp\\medical_image_zoomed_resized_modified_aspect_ratio.png'\n",
    "predictor.predict_siamese(test_image_path)"
   ]
  },
  {
   "cell_type": "code",
   "execution_count": 23,
   "id": "8847978e-7e09-40ae-8ece-bccb015f4b0b",
   "metadata": {},
   "outputs": [
    {
     "name": "stdout",
     "output_type": "stream",
     "text": [
      "1/1 [==============================] - 0s 21ms/step\n",
      "Comparing C:\\temp\\medical_image_zoomed_more_and_panned_resized_modified_aspect_ratio.png with D:\\training_images\\test\\valid\\dummy_class\\c4004cfd-53b5-4699-a010-54e64faa9934.png: Distance = [[0.675523]], Similar = [[False]]\n",
      "1/1 [==============================] - 0s 21ms/step\n",
      "Comparing C:\\temp\\medical_image_zoomed_more_and_panned_resized_modified_aspect_ratio.png with D:\\training_images\\test\\valid\\rotate_and_flip\\f3fd26ed-9ca6-4f18-96c6-249f4264c5bc.png: Distance = [[0.675523]], Similar = [[False]]\n",
      "1/1 [==============================] - 0s 20ms/step\n",
      "Comparing C:\\temp\\medical_image_zoomed_more_and_panned_resized_modified_aspect_ratio.png with D:\\training_images\\test\\valid\\zoomed\\randomized_wl\\b23dc9b0-581f-4abd-8c35-158df0c7040b_1.png: Distance = [[0.675523]], Similar = [[False]]\n",
      "1/1 [==============================] - 0s 21ms/step\n",
      "Comparing C:\\temp\\medical_image_zoomed_more_and_panned_resized_modified_aspect_ratio.png with D:\\training_images\\test\\valid\\randomized_wl\\cropped\\d4c9283f-bee6-4d8b-9a37-86fd1dc377b9_1.png: Distance = [[0.675523]], Similar = [[False]]\n",
      "1/1 [==============================] - 0s 22ms/step\n",
      "Comparing C:\\temp\\medical_image_zoomed_more_and_panned_resized_modified_aspect_ratio.png with D:\\training_images\\test\\valid\\randomized_wl\\cropped\\afd4e1bd-fadd-4935-8f9e-f1b230ac8797_1.png: Distance = [[0.03055608]], Similar = [[ True]]\n",
      "1/1 [==============================] - 0s 23ms/step\n",
      "Comparing C:\\temp\\medical_image_zoomed_more_and_panned_resized_modified_aspect_ratio.png with D:\\training_images\\test\\valid\\randomized_wl\\cropped\\8d1dd3a0-a116-4c86-a2f4-104a6408f61c_1.png: Distance = [[0.675523]], Similar = [[False]]\n",
      "1/1 [==============================] - 0s 19ms/step\n",
      "Comparing C:\\temp\\medical_image_zoomed_more_and_panned_resized_modified_aspect_ratio.png with D:\\training_images\\test\\valid\\randomized_wl\\cropped\\57e3e0f6-7c88-4aa8-8941-7c742eb9b023_0.png: Distance = [[0.675523]], Similar = [[False]]\n",
      "1/1 [==============================] - 0s 22ms/step\n",
      "Comparing C:\\temp\\medical_image_zoomed_more_and_panned_resized_modified_aspect_ratio.png with D:\\training_images\\test\\valid\\randomized_wl\\cropped\\2ba30bb6-4d67-4497-a0c5-d24b47932cc5_1.png: Distance = [[0.675523]], Similar = [[False]]\n",
      "1/1 [==============================] - 0s 22ms/step\n",
      "Comparing C:\\temp\\medical_image_zoomed_more_and_panned_resized_modified_aspect_ratio.png with D:\\training_images\\test\\valid\\zoomed\\randomized_wl\\35ac8a22-57d2-40be-a925-6a303be399ae_0.png: Distance = [[0.675523]], Similar = [[False]]\n",
      "1/1 [==============================] - 0s 20ms/step\n",
      "Comparing C:\\temp\\medical_image_zoomed_more_and_panned_resized_modified_aspect_ratio.png with D:\\training_images\\test\\valid\\zoomed\\randomized_wl\\06a2bd78-2ec2-41c3-a957-0e56ac24a4c5_1.png: Distance = [[0.675523]], Similar = [[False]]\n",
      "1/1 [==============================] - 0s 21ms/step\n",
      "Comparing C:\\temp\\medical_image_zoomed_more_and_panned_resized_modified_aspect_ratio.png with D:\\training_images\\test\\valid\\rotate_and_flip\\c65f778b-fa68-4e79-8765-c1ad64fa4a13.png: Distance = [[0.675523]], Similar = [[False]]\n",
      "1/1 [==============================] - 0s 20ms/step\n",
      "Comparing C:\\temp\\medical_image_zoomed_more_and_panned_resized_modified_aspect_ratio.png with D:\\training_images\\test\\valid\\dummy_class\\68c0ec5b-7188-411f-a939-c914562f8910.png: Distance = [[0.675523]], Similar = [[False]]\n",
      "Total votes for 'Similar': [[1]]/12. Final verdict: Anomalous\n"
     ]
    },
    {
     "data": {
      "text/plain": [
       "array([[False]])"
      ]
     },
     "execution_count": 23,
     "metadata": {},
     "output_type": "execute_result"
    }
   ],
   "source": [
    "test_image_path = r'C:\\temp\\medical_image_zoomed_more_and_panned_resized_modified_aspect_ratio.png'\n",
    "predictor.predict_siamese(test_image_path)"
   ]
  },
  {
   "cell_type": "code",
   "execution_count": 24,
   "id": "2bb98bfa-926e-431f-8ef8-a150b0f9600a",
   "metadata": {},
   "outputs": [
    {
     "name": "stdout",
     "output_type": "stream",
     "text": [
      "1/1 [==============================] - 0s 21ms/step\n",
      "Comparing C:\\temp\\medical_image_zoomed_more_resized_modified_aspect_ratio.png with D:\\training_images\\test\\valid\\zoomed\\randomized_wl\\70093be2-6889-4e9d-83f9-5271094afbaa_0.png: Distance = [[0.28508013]], Similar = [[ True]]\n",
      "1/1 [==============================] - 0s 20ms/step\n",
      "Comparing C:\\temp\\medical_image_zoomed_more_resized_modified_aspect_ratio.png with D:\\training_images\\test\\valid\\zoomed\\randomized_wl\\c79a2de8-2b58-4d20-866d-00fa63dc8efc_0.png: Distance = [[0.28508013]], Similar = [[ True]]\n",
      "1/1 [==============================] - 0s 20ms/step\n",
      "Comparing C:\\temp\\medical_image_zoomed_more_resized_modified_aspect_ratio.png with D:\\training_images\\test\\valid\\rotate_and_flip\\0c3c862c-0dfb-4465-8653-983868e18707.png: Distance = [[0.28508013]], Similar = [[ True]]\n",
      "1/1 [==============================] - 0s 19ms/step\n",
      "Comparing C:\\temp\\medical_image_zoomed_more_resized_modified_aspect_ratio.png with D:\\training_images\\test\\valid\\zoomed\\randomized_wl\\9b0cb1aa-d39f-47a4-81d9-8fbfa01cf2bc_0.png: Distance = [[0.28508013]], Similar = [[ True]]\n",
      "1/1 [==============================] - 0s 21ms/step\n",
      "Comparing C:\\temp\\medical_image_zoomed_more_resized_modified_aspect_ratio.png with D:\\training_images\\test\\valid\\randomized_wl\\cropped\\c38a27f6-f5cd-499e-9eb1-28ca421f5c0a_0.png: Distance = [[0.28508013]], Similar = [[ True]]\n",
      "1/1 [==============================] - 0s 21ms/step\n",
      "Comparing C:\\temp\\medical_image_zoomed_more_resized_modified_aspect_ratio.png with D:\\training_images\\test\\valid\\randomized_wl\\cropped\\b4071cc3-01d8-4e14-91ce-ead6e0ceaf79_0.png: Distance = [[0.28508013]], Similar = [[ True]]\n",
      "1/1 [==============================] - 0s 20ms/step\n",
      "Comparing C:\\temp\\medical_image_zoomed_more_resized_modified_aspect_ratio.png with D:\\training_images\\test\\valid\\randomized_wl\\cropped\\96aa3221-dcd6-44df-9c27-a6cee384eb4e_0.png: Distance = [[0.28508013]], Similar = [[ True]]\n",
      "1/1 [==============================] - 0s 25ms/step\n",
      "Comparing C:\\temp\\medical_image_zoomed_more_resized_modified_aspect_ratio.png with D:\\training_images\\test\\valid\\rotate_and_flip\\cf1ec067-aec0-4859-938e-b2d36b9e4dcf.png: Distance = [[0.28508013]], Similar = [[ True]]\n",
      "1/1 [==============================] - 0s 21ms/step\n",
      "Comparing C:\\temp\\medical_image_zoomed_more_resized_modified_aspect_ratio.png with D:\\training_images\\test\\valid\\randomized_wl\\cropped\\d625e848-3352-4b92-8fa1-a02f3d953ddc_0.png: Distance = [[0.28508013]], Similar = [[ True]]\n",
      "1/1 [==============================] - 0s 20ms/step\n",
      "Comparing C:\\temp\\medical_image_zoomed_more_resized_modified_aspect_ratio.png with D:\\training_images\\test\\valid\\zoomed\\randomized_wl\\c08d5840-edda-4572-b110-fbf76ca17c42_1.png: Distance = [[0.28508013]], Similar = [[ True]]\n",
      "1/1 [==============================] - 0s 21ms/step\n",
      "Comparing C:\\temp\\medical_image_zoomed_more_resized_modified_aspect_ratio.png with D:\\training_images\\test\\valid\\randomized_wl\\cropped\\4db13d59-613f-4f98-b708-451930704fae_1.png: Distance = [[0.28508013]], Similar = [[ True]]\n",
      "1/1 [==============================] - 0s 21ms/step\n",
      "Comparing C:\\temp\\medical_image_zoomed_more_resized_modified_aspect_ratio.png with D:\\training_images\\test\\valid\\zoomed\\randomized_wl\\e853e25b-9cf1-464b-8681-7b86640ea49b_1.png: Distance = [[0.28508013]], Similar = [[ True]]\n",
      "Total votes for 'Similar': [[12]]/12. Final verdict: Normal\n"
     ]
    },
    {
     "data": {
      "text/plain": [
       "array([[ True]])"
      ]
     },
     "execution_count": 24,
     "metadata": {},
     "output_type": "execute_result"
    }
   ],
   "source": [
    "test_image_path = r'C:\\temp\\medical_image_zoomed_more_resized_modified_aspect_ratio.png'\n",
    "predictor.predict_siamese(test_image_path)"
   ]
  },
  {
   "cell_type": "code",
   "execution_count": 25,
   "id": "dcf750dc-5343-4e87-945c-d7805674cc26",
   "metadata": {},
   "outputs": [
    {
     "name": "stdout",
     "output_type": "stream",
     "text": [
      "1/1 [==============================] - 0s 21ms/step\n",
      "Comparing c:\\temp\\medical_image_zoomed_more_rotated_resized_modified_aspect_ratio.png with D:\\training_images\\test\\valid\\randomized_wl\\cropped\\d118fc3f-54a8-4883-95e4-688acf20c03d_1.png: Distance = [[0.81463313]], Similar = [[False]]\n",
      "1/1 [==============================] - 0s 20ms/step\n",
      "Comparing c:\\temp\\medical_image_zoomed_more_rotated_resized_modified_aspect_ratio.png with D:\\training_images\\test\\valid\\rotate_and_flip\\cf95d811-87ae-49db-a9da-6a26a5d33926.png: Distance = [[0.81463313]], Similar = [[False]]\n",
      "1/1 [==============================] - 0s 20ms/step\n",
      "Comparing c:\\temp\\medical_image_zoomed_more_rotated_resized_modified_aspect_ratio.png with D:\\training_images\\test\\valid\\randomized_wl\\cropped\\04ed8ca6-4916-479c-b35d-28b0cfb7d496_1.png: Distance = [[0.81463313]], Similar = [[False]]\n",
      "1/1 [==============================] - 0s 21ms/step\n",
      "Comparing c:\\temp\\medical_image_zoomed_more_rotated_resized_modified_aspect_ratio.png with D:\\training_images\\test\\valid\\zoomed\\randomized_wl\\a77b56d0-b72b-4173-b80b-e40dee5b3142_1.png: Distance = [[0.81463313]], Similar = [[False]]\n",
      "1/1 [==============================] - 0s 21ms/step\n",
      "Comparing c:\\temp\\medical_image_zoomed_more_rotated_resized_modified_aspect_ratio.png with D:\\training_images\\test\\valid\\randomized_wl\\cropped\\1c3dad2b-16eb-4bc7-97e5-bf5dcfd34866_0.png: Distance = [[0.81463313]], Similar = [[False]]\n",
      "1/1 [==============================] - 0s 19ms/step\n",
      "Comparing c:\\temp\\medical_image_zoomed_more_rotated_resized_modified_aspect_ratio.png with D:\\training_images\\test\\valid\\zoomed\\randomized_wl\\7f243632-8874-4851-ad82-963fa32a945c_1.png: Distance = [[0.81463313]], Similar = [[False]]\n",
      "1/1 [==============================] - 0s 21ms/step\n",
      "Comparing c:\\temp\\medical_image_zoomed_more_rotated_resized_modified_aspect_ratio.png with D:\\training_images\\test\\valid\\dummy_class\\f60ed819-3333-49ef-8c3c-75d1ea6cc8ee.png: Distance = [[0.81463313]], Similar = [[False]]\n",
      "1/1 [==============================] - 0s 20ms/step\n",
      "Comparing c:\\temp\\medical_image_zoomed_more_rotated_resized_modified_aspect_ratio.png with D:\\training_images\\test\\valid\\dummy_class\\cb2c3530-adeb-4471-bb61-b19d943c6688.png: Distance = [[0.81463313]], Similar = [[False]]\n",
      "1/1 [==============================] - 0s 20ms/step\n",
      "Comparing c:\\temp\\medical_image_zoomed_more_rotated_resized_modified_aspect_ratio.png with D:\\training_images\\test\\valid\\zoomed\\randomized_wl\\d5701c7c-6930-45df-8c84-829fee07e9c6_1.png: Distance = [[0.81463313]], Similar = [[False]]\n",
      "1/1 [==============================] - 0s 20ms/step\n",
      "Comparing c:\\temp\\medical_image_zoomed_more_rotated_resized_modified_aspect_ratio.png with D:\\training_images\\test\\valid\\zoomed\\randomized_wl\\4bc169b8-0378-46c8-9538-746a2b29b964_0.png: Distance = [[0.81463313]], Similar = [[False]]\n",
      "1/1 [==============================] - 0s 21ms/step\n",
      "Comparing c:\\temp\\medical_image_zoomed_more_rotated_resized_modified_aspect_ratio.png with D:\\training_images\\test\\valid\\randomized_wl\\cropped\\cb56e47a-beb1-406d-8d56-ed65c21c12d4_0.png: Distance = [[0.81463313]], Similar = [[False]]\n",
      "1/1 [==============================] - 0s 22ms/step\n",
      "Comparing c:\\temp\\medical_image_zoomed_more_rotated_resized_modified_aspect_ratio.png with D:\\training_images\\test\\valid\\randomized_wl\\cropped\\a376098e-2e5a-402c-bc11-ff8b918b272c_1.png: Distance = [[0.81463313]], Similar = [[False]]\n",
      "Total votes for 'Similar': [[0]]/12. Final verdict: Anomalous\n"
     ]
    },
    {
     "data": {
      "text/plain": [
       "array([[False]])"
      ]
     },
     "execution_count": 25,
     "metadata": {},
     "output_type": "execute_result"
    }
   ],
   "source": [
    "test_image_path = r'c:\\temp\\medical_image_zoomed_more_rotated_resized_modified_aspect_ratio.png'\n",
    "predictor.predict_siamese(test_image_path)"
   ]
  },
  {
   "cell_type": "code",
   "execution_count": 26,
   "id": "015df824-0f4a-44a1-9cb5-6a46e27d5723",
   "metadata": {},
   "outputs": [
    {
     "name": "stdout",
     "output_type": "stream",
     "text": [
      "1/1 [==============================] - 0s 21ms/step\n",
      "Comparing C:\\temp\\medical_image_zoomed_more_resized_modified_aspect_ratio_hairlines.png with D:\\training_images\\test\\valid\\dummy_class\\5801bfcf-bced-4872-89f0-9fdc6012871a.png: Distance = [[0.34389877]], Similar = [[ True]]\n",
      "1/1 [==============================] - 0s 21ms/step\n",
      "Comparing C:\\temp\\medical_image_zoomed_more_resized_modified_aspect_ratio_hairlines.png with D:\\training_images\\test\\valid\\zoomed\\randomized_wl\\2cbc4da9-82a2-4c34-a512-433d8bb6c1d8_1.png: Distance = [[0.34389877]], Similar = [[ True]]\n",
      "1/1 [==============================] - 0s 20ms/step\n",
      "Comparing C:\\temp\\medical_image_zoomed_more_resized_modified_aspect_ratio_hairlines.png with D:\\training_images\\test\\valid\\randomized_wl\\cropped\\4387ff33-d58b-4d9d-bbda-09a130026dc0_1.png: Distance = [[0.34389877]], Similar = [[ True]]\n",
      "1/1 [==============================] - 0s 21ms/step\n",
      "Comparing C:\\temp\\medical_image_zoomed_more_resized_modified_aspect_ratio_hairlines.png with D:\\training_images\\test\\valid\\randomized_wl\\cropped\\ad5f1f75-6ef7-415d-98ba-6ba38be5fdf2_1.png: Distance = [[0.34389877]], Similar = [[ True]]\n",
      "1/1 [==============================] - 0s 22ms/step\n",
      "Comparing C:\\temp\\medical_image_zoomed_more_resized_modified_aspect_ratio_hairlines.png with D:\\training_images\\test\\valid\\rotate_and_flip\\cc945718-301e-4c03-acf6-aa0c5e975d65.png: Distance = [[0.34389877]], Similar = [[ True]]\n",
      "1/1 [==============================] - 0s 21ms/step\n",
      "Comparing C:\\temp\\medical_image_zoomed_more_resized_modified_aspect_ratio_hairlines.png with D:\\training_images\\test\\valid\\dummy_class\\0e8f5ccf-989d-4054-bff9-77f57fedf009.png: Distance = [[0.34389877]], Similar = [[ True]]\n",
      "1/1 [==============================] - 0s 21ms/step\n",
      "Comparing C:\\temp\\medical_image_zoomed_more_resized_modified_aspect_ratio_hairlines.png with D:\\training_images\\test\\valid\\dummy_class\\84c0f7a2-2a43-4793-ab9e-56ce6ce8cc2e.png: Distance = [[0.34389877]], Similar = [[ True]]\n",
      "1/1 [==============================] - 0s 20ms/step\n",
      "Comparing C:\\temp\\medical_image_zoomed_more_resized_modified_aspect_ratio_hairlines.png with D:\\training_images\\test\\valid\\randomized_wl\\cropped\\063f1fcf-4e19-4fca-b1e3-abc40eae9a37_0.png: Distance = [[0.34389877]], Similar = [[ True]]\n",
      "1/1 [==============================] - 0s 21ms/step\n",
      "Comparing C:\\temp\\medical_image_zoomed_more_resized_modified_aspect_ratio_hairlines.png with D:\\training_images\\test\\valid\\rotate_and_flip\\88d047a2-d8db-42ad-a5a6-cbf337a8b342.png: Distance = [[0.34389877]], Similar = [[ True]]\n",
      "1/1 [==============================] - 0s 20ms/step\n",
      "Comparing C:\\temp\\medical_image_zoomed_more_resized_modified_aspect_ratio_hairlines.png with D:\\training_images\\test\\valid\\randomized_wl\\cropped\\6a511bb8-41b6-4fce-99ca-563fba2b31eb_1.png: Distance = [[0.34389877]], Similar = [[ True]]\n",
      "1/1 [==============================] - 0s 21ms/step\n",
      "Comparing C:\\temp\\medical_image_zoomed_more_resized_modified_aspect_ratio_hairlines.png with D:\\training_images\\test\\valid\\dummy_class\\8140b9e1-c3ef-4aee-9060-369c7d6de6d3.png: Distance = [[0.34389877]], Similar = [[ True]]\n",
      "1/1 [==============================] - 0s 20ms/step\n",
      "Comparing C:\\temp\\medical_image_zoomed_more_resized_modified_aspect_ratio_hairlines.png with D:\\training_images\\test\\valid\\zoomed\\randomized_wl\\35d5f4c2-091d-475d-be7a-49054211db11_0.png: Distance = [[0.34389877]], Similar = [[ True]]\n",
      "Total votes for 'Similar': [[12]]/12. Final verdict: Normal\n"
     ]
    },
    {
     "data": {
      "text/plain": [
       "array([[ True]])"
      ]
     },
     "execution_count": 26,
     "metadata": {},
     "output_type": "execute_result"
    }
   ],
   "source": [
    "test_image_path = r'C:\\temp\\medical_image_zoomed_more_resized_modified_aspect_ratio_hairlines.png'\n",
    "predictor.predict_siamese(test_image_path)"
   ]
  },
  {
   "cell_type": "code",
   "execution_count": 27,
   "id": "3e3cee77-8ab7-4343-9828-d6f5953b7ea1",
   "metadata": {},
   "outputs": [
    {
     "name": "stdout",
     "output_type": "stream",
     "text": [
      "1/1 [==============================] - 0s 21ms/step\n",
      "Comparing C:\\temp\\medical_image_zoomed_more_resized_modified_aspect_ratio_small_square.png with D:\\training_images\\test\\valid\\zoomed\\randomized_wl\\291dfb02-dedc-46f2-9b1a-0d5fb71970a0_1.png: Distance = [[0.2528959]], Similar = [[ True]]\n",
      "1/1 [==============================] - 0s 21ms/step\n",
      "Comparing C:\\temp\\medical_image_zoomed_more_resized_modified_aspect_ratio_small_square.png with D:\\training_images\\test\\valid\\dummy_class\\433a1b86-a8e4-47da-9dcf-098e5bbf9cee.png: Distance = [[0.2528959]], Similar = [[ True]]\n",
      "1/1 [==============================] - 0s 20ms/step\n",
      "Comparing C:\\temp\\medical_image_zoomed_more_resized_modified_aspect_ratio_small_square.png with D:\\training_images\\test\\valid\\zoomed\\randomized_wl\\e63ecb0c-e124-4344-9857-a1a083bf1592_1.png: Distance = [[0.2528959]], Similar = [[ True]]\n",
      "1/1 [==============================] - 0s 21ms/step\n",
      "Comparing C:\\temp\\medical_image_zoomed_more_resized_modified_aspect_ratio_small_square.png with D:\\training_images\\test\\valid\\zoomed\\randomized_wl\\cc7ead96-f935-4324-91cb-f9a954dc46f9_1.png: Distance = [[0.2528959]], Similar = [[ True]]\n",
      "1/1 [==============================] - 0s 21ms/step\n",
      "Comparing C:\\temp\\medical_image_zoomed_more_resized_modified_aspect_ratio_small_square.png with D:\\training_images\\test\\valid\\randomized_wl\\cropped\\14bbf675-4cbd-4d16-8e7e-6cf46c935849_1.png: Distance = [[0.2528959]], Similar = [[ True]]\n",
      "1/1 [==============================] - 0s 22ms/step\n",
      "Comparing C:\\temp\\medical_image_zoomed_more_resized_modified_aspect_ratio_small_square.png with D:\\training_images\\test\\valid\\randomized_wl\\cropped\\046aa84f-279b-4cc4-85dc-0af115e11e87_0.png: Distance = [[0.2528959]], Similar = [[ True]]\n",
      "1/1 [==============================] - 0s 21ms/step\n",
      "Comparing C:\\temp\\medical_image_zoomed_more_resized_modified_aspect_ratio_small_square.png with D:\\training_images\\test\\valid\\zoomed\\randomized_wl\\2e08fa73-09bd-436c-a57d-d89ee0d950c1_0.png: Distance = [[0.2528959]], Similar = [[ True]]\n",
      "1/1 [==============================] - 0s 20ms/step\n",
      "Comparing C:\\temp\\medical_image_zoomed_more_resized_modified_aspect_ratio_small_square.png with D:\\training_images\\test\\valid\\rotate_and_flip\\81298e66-7074-4a00-837b-3f16ecc50032.png: Distance = [[0.2528959]], Similar = [[ True]]\n",
      "1/1 [==============================] - 0s 21ms/step\n",
      "Comparing C:\\temp\\medical_image_zoomed_more_resized_modified_aspect_ratio_small_square.png with D:\\training_images\\test\\valid\\rotate_and_flip\\a4083bd6-ceb0-44c7-8976-d77a6c41199f.png: Distance = [[0.2528959]], Similar = [[ True]]\n",
      "1/1 [==============================] - 0s 21ms/step\n",
      "Comparing C:\\temp\\medical_image_zoomed_more_resized_modified_aspect_ratio_small_square.png with D:\\training_images\\test\\valid\\zoomed\\randomized_wl\\1a274c9a-0959-4a2b-9ab7-8842fc2dee70_1.png: Distance = [[0.2528959]], Similar = [[ True]]\n",
      "1/1 [==============================] - 0s 20ms/step\n",
      "Comparing C:\\temp\\medical_image_zoomed_more_resized_modified_aspect_ratio_small_square.png with D:\\training_images\\test\\valid\\zoomed\\randomized_wl\\67c79cad-9871-4651-8193-d0da271f9504_0.png: Distance = [[0.2528959]], Similar = [[ True]]\n",
      "1/1 [==============================] - 0s 20ms/step\n",
      "Comparing C:\\temp\\medical_image_zoomed_more_resized_modified_aspect_ratio_small_square.png with D:\\training_images\\test\\valid\\dummy_class\\677b1ea8-876e-441e-b9f0-ba9a6e8a452c.png: Distance = [[0.2528959]], Similar = [[ True]]\n",
      "Total votes for 'Similar': [[12]]/12. Final verdict: Normal\n"
     ]
    },
    {
     "data": {
      "text/plain": [
       "array([[ True]])"
      ]
     },
     "execution_count": 27,
     "metadata": {},
     "output_type": "execute_result"
    }
   ],
   "source": [
    "test_image_path = r'C:\\temp\\medical_image_zoomed_more_resized_modified_aspect_ratio_small_square.png'\n",
    "predictor.predict_siamese(test_image_path)"
   ]
  },
  {
   "cell_type": "code",
   "execution_count": 28,
   "id": "7ef668e8-f97b-47e4-8b62-7c859e49dd9b",
   "metadata": {},
   "outputs": [
    {
     "name": "stdout",
     "output_type": "stream",
     "text": [
      "1/1 [==============================] - 0s 21ms/step\n",
      "Comparing C:\\temp\\medical_image_zoomed_more_resized_modified_aspect_ratio_medium_square.png with D:\\training_images\\test\\valid\\randomized_wl\\cropped\\c7e54aee-defe-4481-a2b6-896fc8b65564_0.png: Distance = [[0.2692656]], Similar = [[ True]]\n",
      "1/1 [==============================] - 0s 20ms/step\n",
      "Comparing C:\\temp\\medical_image_zoomed_more_resized_modified_aspect_ratio_medium_square.png with D:\\training_images\\test\\valid\\zoomed\\randomized_wl\\a5708c2e-5882-4a11-9c3b-438f6b37cc79_1.png: Distance = [[0.2692656]], Similar = [[ True]]\n",
      "1/1 [==============================] - 0s 21ms/step\n",
      "Comparing C:\\temp\\medical_image_zoomed_more_resized_modified_aspect_ratio_medium_square.png with D:\\training_images\\test\\valid\\zoomed\\randomized_wl\\8219f071-0e35-467c-a9e7-ba8f4b5e958f_0.png: Distance = [[0.2692656]], Similar = [[ True]]\n",
      "1/1 [==============================] - 0s 21ms/step\n",
      "Comparing C:\\temp\\medical_image_zoomed_more_resized_modified_aspect_ratio_medium_square.png with D:\\training_images\\test\\valid\\randomized_wl\\cropped\\1a4fa34b-1f56-4a24-a44a-bf06948e89bb_0.png: Distance = [[0.2692656]], Similar = [[ True]]\n",
      "1/1 [==============================] - 0s 22ms/step\n",
      "Comparing C:\\temp\\medical_image_zoomed_more_resized_modified_aspect_ratio_medium_square.png with D:\\training_images\\test\\valid\\zoomed\\randomized_wl\\b7b1c49d-a28a-453e-8fe3-21ddcd583a04_0.png: Distance = [[0.2692656]], Similar = [[ True]]\n",
      "1/1 [==============================] - 0s 20ms/step\n",
      "Comparing C:\\temp\\medical_image_zoomed_more_resized_modified_aspect_ratio_medium_square.png with D:\\training_images\\test\\valid\\zoomed\\randomized_wl\\c7b7167a-2ec5-4688-a5cf-e0f36c24c66b_0.png: Distance = [[0.2692656]], Similar = [[ True]]\n",
      "1/1 [==============================] - 0s 20ms/step\n",
      "Comparing C:\\temp\\medical_image_zoomed_more_resized_modified_aspect_ratio_medium_square.png with D:\\training_images\\test\\valid\\zoomed\\randomized_wl\\74b0b0f7-4ad1-4092-854e-ffc83fba307a_1.png: Distance = [[0.2692656]], Similar = [[ True]]\n",
      "1/1 [==============================] - 0s 20ms/step\n",
      "Comparing C:\\temp\\medical_image_zoomed_more_resized_modified_aspect_ratio_medium_square.png with D:\\training_images\\test\\valid\\rotate_and_flip\\0d8fe02e-5056-4023-aa70-41da69dbd93d.png: Distance = [[0.2692656]], Similar = [[ True]]\n",
      "1/1 [==============================] - 0s 21ms/step\n",
      "Comparing C:\\temp\\medical_image_zoomed_more_resized_modified_aspect_ratio_medium_square.png with D:\\training_images\\test\\valid\\dummy_class\\6fd235e4-47ea-4877-be14-5c6b4b88bf7e.png: Distance = [[0.2692656]], Similar = [[ True]]\n",
      "1/1 [==============================] - 0s 21ms/step\n",
      "Comparing C:\\temp\\medical_image_zoomed_more_resized_modified_aspect_ratio_medium_square.png with D:\\training_images\\test\\valid\\zoomed\\randomized_wl\\ad5f1f75-6ef7-415d-98ba-6ba38be5fdf2_0.png: Distance = [[0.2692656]], Similar = [[ True]]\n",
      "1/1 [==============================] - 0s 21ms/step\n",
      "Comparing C:\\temp\\medical_image_zoomed_more_resized_modified_aspect_ratio_medium_square.png with D:\\training_images\\test\\valid\\zoomed\\randomized_wl\\68bced8e-5f73-45b4-a1b4-b4617d04845f_0.png: Distance = [[0.2692656]], Similar = [[ True]]\n",
      "1/1 [==============================] - 0s 21ms/step\n",
      "Comparing C:\\temp\\medical_image_zoomed_more_resized_modified_aspect_ratio_medium_square.png with D:\\training_images\\test\\valid\\zoomed\\randomized_wl\\57878ab7-a556-496a-83e9-61705a2829ba_1.png: Distance = [[0.2692656]], Similar = [[ True]]\n",
      "Total votes for 'Similar': [[12]]/12. Final verdict: Normal\n"
     ]
    },
    {
     "data": {
      "text/plain": [
       "array([[ True]])"
      ]
     },
     "execution_count": 28,
     "metadata": {},
     "output_type": "execute_result"
    }
   ],
   "source": [
    "test_image_path = r'C:\\temp\\medical_image_zoomed_more_resized_modified_aspect_ratio_medium_square.png'\n",
    "predictor.predict_siamese(test_image_path)"
   ]
  },
  {
   "cell_type": "code",
   "execution_count": 29,
   "id": "e8bd5e97-e200-463a-b123-993684893249",
   "metadata": {},
   "outputs": [
    {
     "name": "stdout",
     "output_type": "stream",
     "text": [
      "1/1 [==============================] - 0s 21ms/step\n",
      "Comparing C:\\temp\\medical_image_zoomed_more_resized_modified_aspect_ratio_mediumlarge_square.png with D:\\training_images\\test\\valid\\rotate_and_flip\\0bbc2e2d-52fe-47c2-97a0-7b4f5a62680b.png: Distance = [[0.57698804]], Similar = [[False]]\n",
      "1/1 [==============================] - 0s 21ms/step\n",
      "Comparing C:\\temp\\medical_image_zoomed_more_resized_modified_aspect_ratio_mediumlarge_square.png with D:\\training_images\\test\\valid\\dummy_class\\ad82138d-1137-4831-a176-24a5df99d727.png: Distance = [[0.57698804]], Similar = [[False]]\n",
      "1/1 [==============================] - 0s 20ms/step\n",
      "Comparing C:\\temp\\medical_image_zoomed_more_resized_modified_aspect_ratio_mediumlarge_square.png with D:\\training_images\\test\\valid\\rotate_and_flip\\16fca03c-3082-4e0f-a782-db838966195c.png: Distance = [[0.57698804]], Similar = [[False]]\n",
      "1/1 [==============================] - 0s 22ms/step\n",
      "Comparing C:\\temp\\medical_image_zoomed_more_resized_modified_aspect_ratio_mediumlarge_square.png with D:\\training_images\\test\\valid\\randomized_wl\\cropped\\87894e69-de5b-4090-b634-ba2e6f636a0a_0.png: Distance = [[0.57698804]], Similar = [[False]]\n",
      "1/1 [==============================] - 0s 21ms/step\n",
      "Comparing C:\\temp\\medical_image_zoomed_more_resized_modified_aspect_ratio_mediumlarge_square.png with D:\\training_images\\test\\valid\\randomized_wl\\cropped\\2aa9cbb0-cd1d-4af2-b94e-78e26f13f510_0.png: Distance = [[0.57698804]], Similar = [[False]]\n",
      "1/1 [==============================] - 0s 21ms/step\n",
      "Comparing C:\\temp\\medical_image_zoomed_more_resized_modified_aspect_ratio_mediumlarge_square.png with D:\\training_images\\test\\valid\\dummy_class\\b6da238f-ae4d-4d37-8024-7d14aaacd067.png: Distance = [[0.57698804]], Similar = [[False]]\n",
      "1/1 [==============================] - 0s 21ms/step\n",
      "Comparing C:\\temp\\medical_image_zoomed_more_resized_modified_aspect_ratio_mediumlarge_square.png with D:\\training_images\\test\\valid\\rotate_and_flip\\c6291547-c197-4ab0-9099-4694445d5ebf.png: Distance = [[0.57698804]], Similar = [[False]]\n",
      "1/1 [==============================] - 0s 22ms/step\n",
      "Comparing C:\\temp\\medical_image_zoomed_more_resized_modified_aspect_ratio_mediumlarge_square.png with D:\\training_images\\test\\valid\\dummy_class\\d379cd34-803c-472e-8a60-d5ac53f0f650.png: Distance = [[0.57698804]], Similar = [[False]]\n",
      "1/1 [==============================] - 0s 20ms/step\n",
      "Comparing C:\\temp\\medical_image_zoomed_more_resized_modified_aspect_ratio_mediumlarge_square.png with D:\\training_images\\test\\valid\\zoomed\\randomized_wl\\1b4d6429-ac91-417e-ac93-105f18ad4675_1.png: Distance = [[0.57698804]], Similar = [[False]]\n",
      "1/1 [==============================] - 0s 20ms/step\n",
      "Comparing C:\\temp\\medical_image_zoomed_more_resized_modified_aspect_ratio_mediumlarge_square.png with D:\\training_images\\test\\valid\\randomized_wl\\cropped\\3308f48d-ce94-408f-9e75-c6446c24da61_1.png: Distance = [[0.57698804]], Similar = [[False]]\n",
      "1/1 [==============================] - 0s 20ms/step\n",
      "Comparing C:\\temp\\medical_image_zoomed_more_resized_modified_aspect_ratio_mediumlarge_square.png with D:\\training_images\\test\\valid\\zoomed\\randomized_wl\\ca710011-daf0-4efb-8e54-9c2f62276cb3_1.png: Distance = [[0.57698804]], Similar = [[False]]\n",
      "1/1 [==============================] - 0s 20ms/step\n",
      "Comparing C:\\temp\\medical_image_zoomed_more_resized_modified_aspect_ratio_mediumlarge_square.png with D:\\training_images\\test\\valid\\rotate_and_flip\\c79a2de8-2b58-4d20-866d-00fa63dc8efc.png: Distance = [[0.57698804]], Similar = [[False]]\n",
      "Total votes for 'Similar': [[0]]/12. Final verdict: Anomalous\n"
     ]
    },
    {
     "data": {
      "text/plain": [
       "array([[False]])"
      ]
     },
     "execution_count": 29,
     "metadata": {},
     "output_type": "execute_result"
    }
   ],
   "source": [
    "test_image_path = r'C:\\temp\\medical_image_zoomed_more_resized_modified_aspect_ratio_mediumlarge_square.png'\n",
    "predictor.predict_siamese(test_image_path)"
   ]
  },
  {
   "cell_type": "code",
   "execution_count": 30,
   "id": "8cd5a7a2-e417-4c37-9575-96a642a02aa2",
   "metadata": {},
   "outputs": [
    {
     "name": "stdout",
     "output_type": "stream",
     "text": [
      "1/1 [==============================] - 0s 20ms/step\n",
      "Comparing D:\\Custom_test_valid\\internet-gettyimages-1320918955-612x612.jpg with D:\\training_images\\test\\valid\\randomized_wl\\cropped\\68ca8240-9d01-490a-a83c-6d8a4041c598_0.png: Distance = [[0.45216542]], Similar = [[ True]]\n",
      "1/1 [==============================] - 0s 21ms/step\n",
      "Comparing D:\\Custom_test_valid\\internet-gettyimages-1320918955-612x612.jpg with D:\\training_images\\test\\valid\\zoomed\\randomized_wl\\c0a276e3-ac4a-48c3-b623-f5c8784caa78_0.png: Distance = [[0.]], Similar = [[ True]]\n",
      "1/1 [==============================] - 0s 20ms/step\n",
      "Comparing D:\\Custom_test_valid\\internet-gettyimages-1320918955-612x612.jpg with D:\\training_images\\test\\valid\\randomized_wl\\cropped\\1c29c60c-9a16-42a9-9ebd-39dd7cc4bd72_1.png: Distance = [[0.01941449]], Similar = [[ True]]\n",
      "1/1 [==============================] - 0s 21ms/step\n",
      "Comparing D:\\Custom_test_valid\\internet-gettyimages-1320918955-612x612.jpg with D:\\training_images\\test\\valid\\rotate_and_flip\\44651790-df51-463e-ba0c-27d18b037e95.png: Distance = [[0.00631633]], Similar = [[ True]]\n",
      "1/1 [==============================] - 0s 20ms/step\n",
      "Comparing D:\\Custom_test_valid\\internet-gettyimages-1320918955-612x612.jpg with D:\\training_images\\test\\valid\\dummy_class\\b82f984b-65f5-410f-be06-dbd910375dd1.png: Distance = [[0.]], Similar = [[ True]]\n",
      "1/1 [==============================] - 0s 21ms/step\n",
      "Comparing D:\\Custom_test_valid\\internet-gettyimages-1320918955-612x612.jpg with D:\\training_images\\test\\valid\\rotate_and_flip\\b82f984b-65f5-410f-be06-dbd910375dd1.png: Distance = [[0.]], Similar = [[ True]]\n",
      "1/1 [==============================] - 0s 21ms/step\n",
      "Comparing D:\\Custom_test_valid\\internet-gettyimages-1320918955-612x612.jpg with D:\\training_images\\test\\valid\\dummy_class\\063f1fcf-4e19-4fca-b1e3-abc40eae9a37.png: Distance = [[0.]], Similar = [[ True]]\n",
      "1/1 [==============================] - 0s 21ms/step\n",
      "Comparing D:\\Custom_test_valid\\internet-gettyimages-1320918955-612x612.jpg with D:\\training_images\\test\\valid\\zoomed\\randomized_wl\\44651790-df51-463e-ba0c-27d18b037e95_0.png: Distance = [[0.]], Similar = [[ True]]\n",
      "1/1 [==============================] - 0s 22ms/step\n",
      "Comparing D:\\Custom_test_valid\\internet-gettyimages-1320918955-612x612.jpg with D:\\training_images\\test\\valid\\randomized_wl\\cropped\\29e7f2c9-908e-483e-ad74-365c42bb22b9_0.png: Distance = [[0.41076797]], Similar = [[ True]]\n",
      "1/1 [==============================] - 0s 19ms/step\n",
      "Comparing D:\\Custom_test_valid\\internet-gettyimages-1320918955-612x612.jpg with D:\\training_images\\test\\valid\\dummy_class\\3fa7766d-5a00-4537-9adb-32a6424959e0.png: Distance = [[0.]], Similar = [[ True]]\n",
      "1/1 [==============================] - 0s 21ms/step\n",
      "Comparing D:\\Custom_test_valid\\internet-gettyimages-1320918955-612x612.jpg with D:\\training_images\\test\\valid\\rotate_and_flip\\9c59a8e8-de3d-44e7-9a91-7564417c63be.png: Distance = [[0.]], Similar = [[ True]]\n",
      "1/1 [==============================] - 0s 20ms/step\n",
      "Comparing D:\\Custom_test_valid\\internet-gettyimages-1320918955-612x612.jpg with D:\\training_images\\test\\valid\\randomized_wl\\cropped\\fa29051c-b290-4c90-a0e0-55d0a50cd8b9_1.png: Distance = [[0.]], Similar = [[ True]]\n",
      "Total votes for 'Similar': [[12]]/12. Final verdict: Normal\n"
     ]
    },
    {
     "data": {
      "text/plain": [
       "array([[ True]])"
      ]
     },
     "execution_count": 30,
     "metadata": {},
     "output_type": "execute_result"
    }
   ],
   "source": [
    "test_image_path = r'D:\\Custom_test_valid\\internet-gettyimages-1320918955-612x612.jpg'\n",
    "predictor.predict_siamese(test_image_path)"
   ]
  },
  {
   "cell_type": "code",
   "execution_count": 31,
   "id": "89c24324-c0d2-417a-8b98-d66e02cb70a3",
   "metadata": {},
   "outputs": [
    {
     "name": "stdout",
     "output_type": "stream",
     "text": [
      "1/1 [==============================] - 0s 21ms/step\n",
      "Comparing D:\\Custom_test_valid\\internet-gettyimages-1322138871-612x612.jpg with D:\\training_images\\test\\valid\\randomized_wl\\cropped\\eedc8712-4c51-4dc7-9b90-a8a55f4df385_1.png: Distance = [[0.]], Similar = [[ True]]\n",
      "1/1 [==============================] - 0s 21ms/step\n",
      "Comparing D:\\Custom_test_valid\\internet-gettyimages-1322138871-612x612.jpg with D:\\training_images\\test\\valid\\zoomed\\randomized_wl\\6f2f4d43-c7bf-4434-a8bb-269cd579f873_0.png: Distance = [[0.]], Similar = [[ True]]\n",
      "1/1 [==============================] - 0s 21ms/step\n",
      "Comparing D:\\Custom_test_valid\\internet-gettyimages-1322138871-612x612.jpg with D:\\training_images\\test\\valid\\zoomed\\randomized_wl\\68e72bde-439f-4b9d-81ef-423d45f5b736_0.png: Distance = [[0.]], Similar = [[ True]]\n",
      "1/1 [==============================] - 0s 22ms/step\n",
      "Comparing D:\\Custom_test_valid\\internet-gettyimages-1322138871-612x612.jpg with D:\\training_images\\test\\valid\\rotate_and_flip\\9f39dd9a-cebf-4805-b232-d6c43007d59b.png: Distance = [[0.]], Similar = [[ True]]\n",
      "1/1 [==============================] - 0s 23ms/step\n",
      "Comparing D:\\Custom_test_valid\\internet-gettyimages-1322138871-612x612.jpg with D:\\training_images\\test\\valid\\randomized_wl\\cropped\\ba9ff83d-eb86-47f5-91fc-8f13f8cc3349_1.png: Distance = [[0.]], Similar = [[ True]]\n",
      "1/1 [==============================] - 0s 21ms/step\n",
      "Comparing D:\\Custom_test_valid\\internet-gettyimages-1322138871-612x612.jpg with D:\\training_images\\test\\valid\\randomized_wl\\cropped\\a9b49435-b975-4e7b-9b67-246f342b85c2_1.png: Distance = [[0.52727103]], Similar = [[False]]\n",
      "1/1 [==============================] - 0s 22ms/step\n",
      "Comparing D:\\Custom_test_valid\\internet-gettyimages-1322138871-612x612.jpg with D:\\training_images\\test\\valid\\zoomed\\randomized_wl\\2033e792-b33f-4b5a-a49a-6522df5a6d8b_0.png: Distance = [[0.]], Similar = [[ True]]\n",
      "1/1 [==============================] - 0s 23ms/step\n",
      "Comparing D:\\Custom_test_valid\\internet-gettyimages-1322138871-612x612.jpg with D:\\training_images\\test\\valid\\zoomed\\randomized_wl\\78969ed7-8556-42ad-ac0a-51f521a928bc_0.png: Distance = [[0.]], Similar = [[ True]]\n",
      "1/1 [==============================] - 0s 23ms/step\n",
      "Comparing D:\\Custom_test_valid\\internet-gettyimages-1322138871-612x612.jpg with D:\\training_images\\test\\valid\\randomized_wl\\cropped\\d6f90751-febd-4421-9d55-8fc3bb9b7b7e_0.png: Distance = [[0.]], Similar = [[ True]]\n",
      "1/1 [==============================] - 0s 21ms/step\n",
      "Comparing D:\\Custom_test_valid\\internet-gettyimages-1322138871-612x612.jpg with D:\\training_images\\test\\valid\\zoomed\\randomized_wl\\a376098e-2e5a-402c-bc11-ff8b918b272c_0.png: Distance = [[0.]], Similar = [[ True]]\n",
      "1/1 [==============================] - 0s 21ms/step\n",
      "Comparing D:\\Custom_test_valid\\internet-gettyimages-1322138871-612x612.jpg with D:\\training_images\\test\\valid\\randomized_wl\\cropped\\3c19d76d-9d6d-46b7-b773-1a0395c40868_1.png: Distance = [[0.]], Similar = [[ True]]\n",
      "1/1 [==============================] - 0s 23ms/step\n",
      "Comparing D:\\Custom_test_valid\\internet-gettyimages-1322138871-612x612.jpg with D:\\training_images\\test\\valid\\zoomed\\randomized_wl\\90cb4b0e-6d33-4cdb-96d9-cc22f653219b_1.png: Distance = [[0.]], Similar = [[ True]]\n",
      "Total votes for 'Similar': [[11]]/12. Final verdict: Normal\n"
     ]
    },
    {
     "data": {
      "text/plain": [
       "array([[ True]])"
      ]
     },
     "execution_count": 31,
     "metadata": {},
     "output_type": "execute_result"
    }
   ],
   "source": [
    "test_image_path = r'D:\\Custom_test_valid\\internet-gettyimages-1322138871-612x612.jpg'\n",
    "predictor.predict_siamese(test_image_path)"
   ]
  },
  {
   "cell_type": "code",
   "execution_count": null,
   "id": "83849e1c-30f2-42df-a7fc-97634256c4be",
   "metadata": {},
   "outputs": [],
   "source": []
  }
 ],
 "metadata": {
  "kernelspec": {
   "display_name": "Python 3 (ipykernel)",
   "language": "python",
   "name": "python3"
  },
  "language_info": {
   "codemirror_mode": {
    "name": "ipython",
    "version": 3
   },
   "file_extension": ".py",
   "mimetype": "text/x-python",
   "name": "python",
   "nbconvert_exporter": "python",
   "pygments_lexer": "ipython3",
   "version": "3.11.9"
  }
 },
 "nbformat": 4,
 "nbformat_minor": 5
}
